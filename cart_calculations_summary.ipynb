{
 "cells": [
  {
   "cell_type": "markdown",
   "metadata": {},
   "source": [
    "# Cart Calculations Summary\n",
    "**By Thabang Mokoena \n",
    "<br>\n",
    "Date: 2024/01/05\n",
    "<br>**\n",
    "Summary of how to do calculation on a dataframe related to online shopping data."
   ]
  },
  {
   "cell_type": "markdown",
   "metadata": {},
   "source": [
    "Loading the information in a json file format using **pandas** to extract the data."
   ]
  },
  {
   "cell_type": "code",
   "execution_count": 1,
   "metadata": {},
   "outputs": [
    {
     "name": "stdout",
     "output_type": "stream",
     "text": [
      "<class 'pandas.core.frame.DataFrame'>\n",
      "RangeIndex: 12 entries, 0 to 11\n",
      "Data columns (total 3 columns):\n",
      " #   Column  Non-Null Count  Dtype \n",
      "---  ------  --------------  ----- \n",
      " 0   email   12 non-null     object\n",
      " 1   status  12 non-null     object\n",
      " 2   items   12 non-null     object\n",
      "dtypes: object(3)\n",
      "memory usage: 420.0+ bytes\n",
      "None\n"
     ]
    },
    {
     "data": {
      "text/html": [
       "<div>\n",
       "<style scoped>\n",
       "    .dataframe tbody tr th:only-of-type {\n",
       "        vertical-align: middle;\n",
       "    }\n",
       "\n",
       "    .dataframe tbody tr th {\n",
       "        vertical-align: top;\n",
       "    }\n",
       "\n",
       "    .dataframe thead th {\n",
       "        text-align: right;\n",
       "    }\n",
       "</style>\n",
       "<table border=\"1\" class=\"dataframe\">\n",
       "  <thead>\n",
       "    <tr style=\"text-align: right;\">\n",
       "      <th></th>\n",
       "      <th>email</th>\n",
       "      <th>status</th>\n",
       "      <th>items</th>\n",
       "    </tr>\n",
       "  </thead>\n",
       "  <tbody>\n",
       "    <tr>\n",
       "      <th>0</th>\n",
       "      <td>tshepo@umuzi.org</td>\n",
       "      <td>OPEN</td>\n",
       "      <td>[{'name': 'hamster', 'quantity': 2, 'price': 2...</td>\n",
       "    </tr>\n",
       "    <tr>\n",
       "      <th>1</th>\n",
       "      <td>tshepo@umuzi.org</td>\n",
       "      <td>PAID</td>\n",
       "      <td>[{'name': 'balloons', 'quantity': 1, 'price': ...</td>\n",
       "    </tr>\n",
       "    <tr>\n",
       "      <th>2</th>\n",
       "      <td>tshepo@umuzi.org</td>\n",
       "      <td>DELIVERED</td>\n",
       "      <td>[{'name': 'tooth brush', 'quantity': 1, 'price...</td>\n",
       "    </tr>\n",
       "    <tr>\n",
       "      <th>3</th>\n",
       "      <td>tshepo@umuzi.org</td>\n",
       "      <td>DELIVERED</td>\n",
       "      <td>[{'name': 'tent', 'quantity': 1, 'price': 1999}]</td>\n",
       "    </tr>\n",
       "    <tr>\n",
       "      <th>4</th>\n",
       "      <td>sally@umuzi.org</td>\n",
       "      <td>DELIVERED</td>\n",
       "      <td>[{'name': 'tent', 'quantity': 1, 'price': 1999...</td>\n",
       "    </tr>\n",
       "    <tr>\n",
       "      <th>5</th>\n",
       "      <td>sally@umuzi.org</td>\n",
       "      <td>PAID</td>\n",
       "      <td>[{'name': 'hamster', 'quantity': 1, 'price': 2...</td>\n",
       "    </tr>\n",
       "    <tr>\n",
       "      <th>6</th>\n",
       "      <td>sally@umuzi.org</td>\n",
       "      <td>DELIVERED</td>\n",
       "      <td>[{'name': 'book: how to care for your hamster'...</td>\n",
       "    </tr>\n",
       "    <tr>\n",
       "      <th>7</th>\n",
       "      <td>mpho@umuzi.org</td>\n",
       "      <td>OPEN</td>\n",
       "      <td>[{'name': 'hammer', 'quantity': 1, 'price': 20...</td>\n",
       "    </tr>\n",
       "    <tr>\n",
       "      <th>8</th>\n",
       "      <td>ryan@umuzi.org</td>\n",
       "      <td>PAID</td>\n",
       "      <td>[{'name': '128 GB SSD Hard drive', 'quantity':...</td>\n",
       "    </tr>\n",
       "    <tr>\n",
       "      <th>9</th>\n",
       "      <td>mo@umuzi.org</td>\n",
       "      <td>DELIVERED</td>\n",
       "      <td>[{'name': 'balloons', 'quantity': 1, 'price': ...</td>\n",
       "    </tr>\n",
       "    <tr>\n",
       "      <th>10</th>\n",
       "      <td>mo@umuzi.org</td>\n",
       "      <td>DELIVERED</td>\n",
       "      <td>[]</td>\n",
       "    </tr>\n",
       "    <tr>\n",
       "      <th>11</th>\n",
       "      <td>mo@umuzi.org</td>\n",
       "      <td>DELIVERED</td>\n",
       "      <td>[{'name': 'balloons', 'quantity': 1, 'price': ...</td>\n",
       "    </tr>\n",
       "  </tbody>\n",
       "</table>\n",
       "</div>"
      ],
      "text/plain": [
       "               email     status  \\\n",
       "0   tshepo@umuzi.org       OPEN   \n",
       "1   tshepo@umuzi.org       PAID   \n",
       "2   tshepo@umuzi.org  DELIVERED   \n",
       "3   tshepo@umuzi.org  DELIVERED   \n",
       "4    sally@umuzi.org  DELIVERED   \n",
       "5    sally@umuzi.org       PAID   \n",
       "6    sally@umuzi.org  DELIVERED   \n",
       "7     mpho@umuzi.org       OPEN   \n",
       "8     ryan@umuzi.org       PAID   \n",
       "9       mo@umuzi.org  DELIVERED   \n",
       "10      mo@umuzi.org  DELIVERED   \n",
       "11      mo@umuzi.org  DELIVERED   \n",
       "\n",
       "                                                items  \n",
       "0   [{'name': 'hamster', 'quantity': 2, 'price': 2...  \n",
       "1   [{'name': 'balloons', 'quantity': 1, 'price': ...  \n",
       "2   [{'name': 'tooth brush', 'quantity': 1, 'price...  \n",
       "3    [{'name': 'tent', 'quantity': 1, 'price': 1999}]  \n",
       "4   [{'name': 'tent', 'quantity': 1, 'price': 1999...  \n",
       "5   [{'name': 'hamster', 'quantity': 1, 'price': 2...  \n",
       "6   [{'name': 'book: how to care for your hamster'...  \n",
       "7   [{'name': 'hammer', 'quantity': 1, 'price': 20...  \n",
       "8   [{'name': '128 GB SSD Hard drive', 'quantity':...  \n",
       "9   [{'name': 'balloons', 'quantity': 1, 'price': ...  \n",
       "10                                                 []  \n",
       "11  [{'name': 'balloons', 'quantity': 1, 'price': ...  "
      ]
     },
     "execution_count": 1,
     "metadata": {},
     "output_type": "execute_result"
    }
   ],
   "source": [
    "import pandas as pd\n",
    "from tabulate import tabulate\n",
    "data = pd.read_json(\"./data/data.json\")\n",
    "print(data.info())\n",
    "data.head(17)"
   ]
  },
  {
   "cell_type": "markdown",
   "metadata": {},
   "source": [
    "Notice how the items column contains a list of **dictionary list**. This means that every item in the basket is being traced by its *name*,*quantity* and *price*, which is are the dictionary keys. The values are the actual items with attributes related to them. \n",
    "\n",
    "**NB:** It's just twelve rows."
   ]
  },
  {
   "cell_type": "code",
   "execution_count": 2,
   "metadata": {},
   "outputs": [
    {
     "name": "stdout",
     "output_type": "stream",
     "text": [
      "[{'name': 'hamster', 'quantity': 2, 'price': 20}, {'name': 'saw dust', 'quantity': 1, 'price': 20}, {'name': 'hamster-cage', 'quantity': 1, 'price': 150}, {'name': 'book: how to care for your hamster', 'quantity': 1, 'price': 150}]\n"
     ]
    }
   ],
   "source": [
    "print(data[\"items\"][0])"
   ]
  },
  {
   "cell_type": "markdown",
   "metadata": {},
   "source": [
    "# **1. Explore Data Summary and Access to Items**\n",
    "To evaluate the best way the information can be visuals and interpreted can assit in solving the problem of building methods for transactions related to customer's actions.\n",
    "\n",
    "<br>\n",
    "Accessing items in the \"items\" column."
   ]
  },
  {
   "cell_type": "code",
   "execution_count": 3,
   "metadata": {},
   "outputs": [
    {
     "name": "stdout",
     "output_type": "stream",
     "text": [
      "{'name': 'hamster', 'quantity': 2, 'price': 20}\n",
      "{'name': 'saw dust', 'quantity': 1, 'price': 20}\n",
      "{'name': 'hamster-cage', 'quantity': 1, 'price': 150}\n",
      "{'name': 'book: how to care for your hamster', 'quantity': 1, 'price': 150}\n",
      "{'name': 'balloons', 'quantity': 1, 'price': 25}\n",
      "{'name': 'big friggin cake', 'quantity': 1, 'price': 150}\n",
      "{'name': 'candles', 'quantity': 1, 'price': 30}\n",
      "{'name': 'tooth brush', 'quantity': 1, 'price': 50}\n",
      "{'name': 'soap', 'quantity': 3, 'price': 15}\n",
      "{'name': 'tent', 'quantity': 1, 'price': 1999}\n",
      "{'name': 'tent', 'quantity': 1, 'price': 1999}\n",
      "{'name': 'headlamp', 'quantity': 1, 'price': 250}\n",
      "{'name': 'hiking boots', 'quantity': 1, 'price': 1000}\n",
      "{'name': 'hamster', 'quantity': 1, 'price': 20}\n",
      "{'name': 'saw dust', 'quantity': 1, 'price': 20}\n",
      "{'name': 'hamster-cage', 'quantity': 1, 'price': 150}\n",
      "{'name': 'book: how to care for your hamster', 'quantity': 1, 'price': 150}\n",
      "{'name': 'hammer', 'quantity': 1, 'price': 200}\n",
      "{'name': 'bag of nails', 'quantity': 1, 'price': 50}\n",
      "{'name': '128 GB SSD Hard drive', 'quantity': 2, 'price': 600}\n",
      "{'name': '128 GB SSD Hard drive', 'quantity': 2, 'price': 600}\n",
      "{'name': 'book: how to succeed at being a hard arse', 'quantity': 1, 'price': 160}\n",
      "{'name': 'balloons', 'quantity': 1, 'price': 25}\n",
      "{'name': 'big friggin cake', 'quantity': 2, 'price': 150}\n",
      "{'name': 'balloons', 'quantity': 1, 'price': 25}\n",
      "{'name': 'big friggin cake', 'quantity': 1, 'price': 150}\n"
     ]
    }
   ],
   "source": [
    "for items in data[\"items\"]:\n",
    "    for item in items:\n",
    "        print(item)"
   ]
  },
  {
   "cell_type": "markdown",
   "metadata": {},
   "source": [
    "### **1.1 Better presentation**\n",
    "Turn the list into a dataframe for better handling."
   ]
  },
  {
   "cell_type": "code",
   "execution_count": 4,
   "metadata": {},
   "outputs": [
    {
     "data": {
      "text/html": [
       "<div>\n",
       "<style scoped>\n",
       "    .dataframe tbody tr th:only-of-type {\n",
       "        vertical-align: middle;\n",
       "    }\n",
       "\n",
       "    .dataframe tbody tr th {\n",
       "        vertical-align: top;\n",
       "    }\n",
       "\n",
       "    .dataframe thead th {\n",
       "        text-align: right;\n",
       "    }\n",
       "</style>\n",
       "<table border=\"1\" class=\"dataframe\">\n",
       "  <thead>\n",
       "    <tr style=\"text-align: right;\">\n",
       "      <th></th>\n",
       "      <th>email</th>\n",
       "      <th>status</th>\n",
       "      <th>name</th>\n",
       "      <th>quantity</th>\n",
       "      <th>price</th>\n",
       "    </tr>\n",
       "  </thead>\n",
       "  <tbody>\n",
       "    <tr>\n",
       "      <th>0</th>\n",
       "      <td>tshepo@umuzi.org</td>\n",
       "      <td>OPEN</td>\n",
       "      <td>hamster</td>\n",
       "      <td>2.0</td>\n",
       "      <td>20.0</td>\n",
       "    </tr>\n",
       "    <tr>\n",
       "      <th>1</th>\n",
       "      <td>tshepo@umuzi.org</td>\n",
       "      <td>OPEN</td>\n",
       "      <td>saw dust</td>\n",
       "      <td>1.0</td>\n",
       "      <td>20.0</td>\n",
       "    </tr>\n",
       "    <tr>\n",
       "      <th>2</th>\n",
       "      <td>tshepo@umuzi.org</td>\n",
       "      <td>OPEN</td>\n",
       "      <td>hamster-cage</td>\n",
       "      <td>1.0</td>\n",
       "      <td>150.0</td>\n",
       "    </tr>\n",
       "    <tr>\n",
       "      <th>3</th>\n",
       "      <td>tshepo@umuzi.org</td>\n",
       "      <td>OPEN</td>\n",
       "      <td>book: how to care for your hamster</td>\n",
       "      <td>1.0</td>\n",
       "      <td>150.0</td>\n",
       "    </tr>\n",
       "    <tr>\n",
       "      <th>4</th>\n",
       "      <td>tshepo@umuzi.org</td>\n",
       "      <td>PAID</td>\n",
       "      <td>balloons</td>\n",
       "      <td>1.0</td>\n",
       "      <td>25.0</td>\n",
       "    </tr>\n",
       "    <tr>\n",
       "      <th>5</th>\n",
       "      <td>tshepo@umuzi.org</td>\n",
       "      <td>PAID</td>\n",
       "      <td>big friggin cake</td>\n",
       "      <td>1.0</td>\n",
       "      <td>150.0</td>\n",
       "    </tr>\n",
       "    <tr>\n",
       "      <th>6</th>\n",
       "      <td>tshepo@umuzi.org</td>\n",
       "      <td>PAID</td>\n",
       "      <td>candles</td>\n",
       "      <td>1.0</td>\n",
       "      <td>30.0</td>\n",
       "    </tr>\n",
       "    <tr>\n",
       "      <th>7</th>\n",
       "      <td>tshepo@umuzi.org</td>\n",
       "      <td>DELIVERED</td>\n",
       "      <td>tooth brush</td>\n",
       "      <td>1.0</td>\n",
       "      <td>50.0</td>\n",
       "    </tr>\n",
       "    <tr>\n",
       "      <th>8</th>\n",
       "      <td>tshepo@umuzi.org</td>\n",
       "      <td>DELIVERED</td>\n",
       "      <td>soap</td>\n",
       "      <td>3.0</td>\n",
       "      <td>15.0</td>\n",
       "    </tr>\n",
       "    <tr>\n",
       "      <th>9</th>\n",
       "      <td>tshepo@umuzi.org</td>\n",
       "      <td>DELIVERED</td>\n",
       "      <td>tent</td>\n",
       "      <td>1.0</td>\n",
       "      <td>1999.0</td>\n",
       "    </tr>\n",
       "    <tr>\n",
       "      <th>10</th>\n",
       "      <td>sally@umuzi.org</td>\n",
       "      <td>DELIVERED</td>\n",
       "      <td>tent</td>\n",
       "      <td>1.0</td>\n",
       "      <td>1999.0</td>\n",
       "    </tr>\n",
       "    <tr>\n",
       "      <th>11</th>\n",
       "      <td>sally@umuzi.org</td>\n",
       "      <td>DELIVERED</td>\n",
       "      <td>headlamp</td>\n",
       "      <td>1.0</td>\n",
       "      <td>250.0</td>\n",
       "    </tr>\n",
       "    <tr>\n",
       "      <th>12</th>\n",
       "      <td>sally@umuzi.org</td>\n",
       "      <td>DELIVERED</td>\n",
       "      <td>hiking boots</td>\n",
       "      <td>1.0</td>\n",
       "      <td>1000.0</td>\n",
       "    </tr>\n",
       "    <tr>\n",
       "      <th>13</th>\n",
       "      <td>sally@umuzi.org</td>\n",
       "      <td>PAID</td>\n",
       "      <td>hamster</td>\n",
       "      <td>1.0</td>\n",
       "      <td>20.0</td>\n",
       "    </tr>\n",
       "    <tr>\n",
       "      <th>14</th>\n",
       "      <td>sally@umuzi.org</td>\n",
       "      <td>PAID</td>\n",
       "      <td>saw dust</td>\n",
       "      <td>1.0</td>\n",
       "      <td>20.0</td>\n",
       "    </tr>\n",
       "    <tr>\n",
       "      <th>15</th>\n",
       "      <td>sally@umuzi.org</td>\n",
       "      <td>PAID</td>\n",
       "      <td>hamster-cage</td>\n",
       "      <td>1.0</td>\n",
       "      <td>150.0</td>\n",
       "    </tr>\n",
       "    <tr>\n",
       "      <th>16</th>\n",
       "      <td>sally@umuzi.org</td>\n",
       "      <td>DELIVERED</td>\n",
       "      <td>book: how to care for your hamster</td>\n",
       "      <td>1.0</td>\n",
       "      <td>150.0</td>\n",
       "    </tr>\n",
       "    <tr>\n",
       "      <th>17</th>\n",
       "      <td>mpho@umuzi.org</td>\n",
       "      <td>OPEN</td>\n",
       "      <td>hammer</td>\n",
       "      <td>1.0</td>\n",
       "      <td>200.0</td>\n",
       "    </tr>\n",
       "    <tr>\n",
       "      <th>18</th>\n",
       "      <td>mpho@umuzi.org</td>\n",
       "      <td>OPEN</td>\n",
       "      <td>bag of nails</td>\n",
       "      <td>1.0</td>\n",
       "      <td>50.0</td>\n",
       "    </tr>\n",
       "    <tr>\n",
       "      <th>19</th>\n",
       "      <td>mpho@umuzi.org</td>\n",
       "      <td>OPEN</td>\n",
       "      <td>128 GB SSD Hard drive</td>\n",
       "      <td>2.0</td>\n",
       "      <td>600.0</td>\n",
       "    </tr>\n",
       "    <tr>\n",
       "      <th>20</th>\n",
       "      <td>ryan@umuzi.org</td>\n",
       "      <td>PAID</td>\n",
       "      <td>128 GB SSD Hard drive</td>\n",
       "      <td>2.0</td>\n",
       "      <td>600.0</td>\n",
       "    </tr>\n",
       "    <tr>\n",
       "      <th>21</th>\n",
       "      <td>ryan@umuzi.org</td>\n",
       "      <td>PAID</td>\n",
       "      <td>book: how to succeed at being a hard arse</td>\n",
       "      <td>1.0</td>\n",
       "      <td>160.0</td>\n",
       "    </tr>\n",
       "    <tr>\n",
       "      <th>22</th>\n",
       "      <td>mo@umuzi.org</td>\n",
       "      <td>DELIVERED</td>\n",
       "      <td>balloons</td>\n",
       "      <td>1.0</td>\n",
       "      <td>25.0</td>\n",
       "    </tr>\n",
       "    <tr>\n",
       "      <th>23</th>\n",
       "      <td>mo@umuzi.org</td>\n",
       "      <td>DELIVERED</td>\n",
       "      <td>big friggin cake</td>\n",
       "      <td>2.0</td>\n",
       "      <td>150.0</td>\n",
       "    </tr>\n",
       "    <tr>\n",
       "      <th>24</th>\n",
       "      <td>mo@umuzi.org</td>\n",
       "      <td>DELIVERED</td>\n",
       "      <td>balloons</td>\n",
       "      <td>1.0</td>\n",
       "      <td>25.0</td>\n",
       "    </tr>\n",
       "    <tr>\n",
       "      <th>25</th>\n",
       "      <td>mo@umuzi.org</td>\n",
       "      <td>DELIVERED</td>\n",
       "      <td>big friggin cake</td>\n",
       "      <td>1.0</td>\n",
       "      <td>150.0</td>\n",
       "    </tr>\n",
       "  </tbody>\n",
       "</table>\n",
       "</div>"
      ],
      "text/plain": [
       "               email     status                                       name  \\\n",
       "0   tshepo@umuzi.org       OPEN                                    hamster   \n",
       "1   tshepo@umuzi.org       OPEN                                   saw dust   \n",
       "2   tshepo@umuzi.org       OPEN                               hamster-cage   \n",
       "3   tshepo@umuzi.org       OPEN         book: how to care for your hamster   \n",
       "4   tshepo@umuzi.org       PAID                                   balloons   \n",
       "5   tshepo@umuzi.org       PAID                           big friggin cake   \n",
       "6   tshepo@umuzi.org       PAID                                    candles   \n",
       "7   tshepo@umuzi.org  DELIVERED                                tooth brush   \n",
       "8   tshepo@umuzi.org  DELIVERED                                       soap   \n",
       "9   tshepo@umuzi.org  DELIVERED                                       tent   \n",
       "10   sally@umuzi.org  DELIVERED                                       tent   \n",
       "11   sally@umuzi.org  DELIVERED                                   headlamp   \n",
       "12   sally@umuzi.org  DELIVERED                               hiking boots   \n",
       "13   sally@umuzi.org       PAID                                    hamster   \n",
       "14   sally@umuzi.org       PAID                                   saw dust   \n",
       "15   sally@umuzi.org       PAID                               hamster-cage   \n",
       "16   sally@umuzi.org  DELIVERED         book: how to care for your hamster   \n",
       "17    mpho@umuzi.org       OPEN                                     hammer   \n",
       "18    mpho@umuzi.org       OPEN                               bag of nails   \n",
       "19    mpho@umuzi.org       OPEN                      128 GB SSD Hard drive   \n",
       "20    ryan@umuzi.org       PAID                      128 GB SSD Hard drive   \n",
       "21    ryan@umuzi.org       PAID  book: how to succeed at being a hard arse   \n",
       "22      mo@umuzi.org  DELIVERED                                   balloons   \n",
       "23      mo@umuzi.org  DELIVERED                           big friggin cake   \n",
       "24      mo@umuzi.org  DELIVERED                                   balloons   \n",
       "25      mo@umuzi.org  DELIVERED                           big friggin cake   \n",
       "\n",
       "    quantity   price  \n",
       "0        2.0    20.0  \n",
       "1        1.0    20.0  \n",
       "2        1.0   150.0  \n",
       "3        1.0   150.0  \n",
       "4        1.0    25.0  \n",
       "5        1.0   150.0  \n",
       "6        1.0    30.0  \n",
       "7        1.0    50.0  \n",
       "8        3.0    15.0  \n",
       "9        1.0  1999.0  \n",
       "10       1.0  1999.0  \n",
       "11       1.0   250.0  \n",
       "12       1.0  1000.0  \n",
       "13       1.0    20.0  \n",
       "14       1.0    20.0  \n",
       "15       1.0   150.0  \n",
       "16       1.0   150.0  \n",
       "17       1.0   200.0  \n",
       "18       1.0    50.0  \n",
       "19       2.0   600.0  \n",
       "20       2.0   600.0  \n",
       "21       1.0   160.0  \n",
       "22       1.0    25.0  \n",
       "23       2.0   150.0  \n",
       "24       1.0    25.0  \n",
       "25       1.0   150.0  "
      ]
     },
     "execution_count": 4,
     "metadata": {},
     "output_type": "execute_result"
    }
   ],
   "source": [
    "dfs = []\n",
    "for index, row in data.iterrows():\n",
    "    customer_df = pd.DataFrame(row['items'])\n",
    "    customer_df['email'] = row['email']\n",
    "    customer_df['status'] = row['status']\n",
    "    \n",
    "    dfs.append(customer_df)\n",
    "\n",
    "result = pd.concat(dfs, ignore_index=True)\n",
    "result = result[['email', 'status', 'name', 'quantity', 'price']]\n",
    "result['quantity'] = pd.to_numeric(result['quantity'], errors='coerce')\n",
    "result['price'] = pd.to_numeric(result['price'], errors='coerce')\n",
    "result['status'] = result['status'].astype('category')\n",
    "result"
   ]
  },
  {
   "cell_type": "markdown",
   "metadata": {},
   "source": [
    "### **1.2 Group by customers**\n",
    "Group the dataframe by the customer's emails."
   ]
  },
  {
   "cell_type": "code",
   "execution_count": 5,
   "metadata": {},
   "outputs": [
    {
     "data": {
      "text/html": [
       "<div>\n",
       "<style scoped>\n",
       "    .dataframe tbody tr th:only-of-type {\n",
       "        vertical-align: middle;\n",
       "    }\n",
       "\n",
       "    .dataframe tbody tr th {\n",
       "        vertical-align: top;\n",
       "    }\n",
       "\n",
       "    .dataframe thead th {\n",
       "        text-align: right;\n",
       "    }\n",
       "</style>\n",
       "<table border=\"1\" class=\"dataframe\">\n",
       "  <thead>\n",
       "    <tr style=\"text-align: right;\">\n",
       "      <th></th>\n",
       "      <th></th>\n",
       "      <th>quantity</th>\n",
       "      <th>price</th>\n",
       "    </tr>\n",
       "    <tr>\n",
       "      <th>email</th>\n",
       "      <th>status</th>\n",
       "      <th></th>\n",
       "      <th></th>\n",
       "    </tr>\n",
       "  </thead>\n",
       "  <tbody>\n",
       "    <tr>\n",
       "      <th rowspan=\"3\" valign=\"top\">mo@umuzi.org</th>\n",
       "      <th>DELIVERED</th>\n",
       "      <td>5.0</td>\n",
       "      <td>350.0</td>\n",
       "    </tr>\n",
       "    <tr>\n",
       "      <th>OPEN</th>\n",
       "      <td>0.0</td>\n",
       "      <td>0.0</td>\n",
       "    </tr>\n",
       "    <tr>\n",
       "      <th>PAID</th>\n",
       "      <td>0.0</td>\n",
       "      <td>0.0</td>\n",
       "    </tr>\n",
       "    <tr>\n",
       "      <th rowspan=\"3\" valign=\"top\">mpho@umuzi.org</th>\n",
       "      <th>DELIVERED</th>\n",
       "      <td>0.0</td>\n",
       "      <td>0.0</td>\n",
       "    </tr>\n",
       "    <tr>\n",
       "      <th>OPEN</th>\n",
       "      <td>4.0</td>\n",
       "      <td>850.0</td>\n",
       "    </tr>\n",
       "    <tr>\n",
       "      <th>PAID</th>\n",
       "      <td>0.0</td>\n",
       "      <td>0.0</td>\n",
       "    </tr>\n",
       "    <tr>\n",
       "      <th rowspan=\"3\" valign=\"top\">ryan@umuzi.org</th>\n",
       "      <th>DELIVERED</th>\n",
       "      <td>0.0</td>\n",
       "      <td>0.0</td>\n",
       "    </tr>\n",
       "    <tr>\n",
       "      <th>OPEN</th>\n",
       "      <td>0.0</td>\n",
       "      <td>0.0</td>\n",
       "    </tr>\n",
       "    <tr>\n",
       "      <th>PAID</th>\n",
       "      <td>3.0</td>\n",
       "      <td>760.0</td>\n",
       "    </tr>\n",
       "    <tr>\n",
       "      <th rowspan=\"3\" valign=\"top\">sally@umuzi.org</th>\n",
       "      <th>DELIVERED</th>\n",
       "      <td>4.0</td>\n",
       "      <td>3399.0</td>\n",
       "    </tr>\n",
       "    <tr>\n",
       "      <th>OPEN</th>\n",
       "      <td>0.0</td>\n",
       "      <td>0.0</td>\n",
       "    </tr>\n",
       "    <tr>\n",
       "      <th>PAID</th>\n",
       "      <td>3.0</td>\n",
       "      <td>190.0</td>\n",
       "    </tr>\n",
       "    <tr>\n",
       "      <th rowspan=\"3\" valign=\"top\">tshepo@umuzi.org</th>\n",
       "      <th>DELIVERED</th>\n",
       "      <td>5.0</td>\n",
       "      <td>2064.0</td>\n",
       "    </tr>\n",
       "    <tr>\n",
       "      <th>OPEN</th>\n",
       "      <td>5.0</td>\n",
       "      <td>340.0</td>\n",
       "    </tr>\n",
       "    <tr>\n",
       "      <th>PAID</th>\n",
       "      <td>3.0</td>\n",
       "      <td>205.0</td>\n",
       "    </tr>\n",
       "  </tbody>\n",
       "</table>\n",
       "</div>"
      ],
      "text/plain": [
       "                            quantity   price\n",
       "email            status                     \n",
       "mo@umuzi.org     DELIVERED       5.0   350.0\n",
       "                 OPEN            0.0     0.0\n",
       "                 PAID            0.0     0.0\n",
       "mpho@umuzi.org   DELIVERED       0.0     0.0\n",
       "                 OPEN            4.0   850.0\n",
       "                 PAID            0.0     0.0\n",
       "ryan@umuzi.org   DELIVERED       0.0     0.0\n",
       "                 OPEN            0.0     0.0\n",
       "                 PAID            3.0   760.0\n",
       "sally@umuzi.org  DELIVERED       4.0  3399.0\n",
       "                 OPEN            0.0     0.0\n",
       "                 PAID            3.0   190.0\n",
       "tshepo@umuzi.org DELIVERED       5.0  2064.0\n",
       "                 OPEN            5.0   340.0\n",
       "                 PAID            3.0   205.0"
      ]
     },
     "execution_count": 5,
     "metadata": {},
     "output_type": "execute_result"
    }
   ],
   "source": [
    "df_customers = result.groupby(['email','status']).agg({'quantity': 'sum', 'price': 'sum'})\n",
    "df_customers"
   ]
  },
  {
   "cell_type": "code",
   "execution_count": 6,
   "metadata": {},
   "outputs": [
    {
     "data": {
      "application/vnd.plotly.v1+json": {
       "config": {
        "plotlyServerURL": "https://plot.ly"
       },
       "data": [
        {
         "alignmentgroup": "True",
         "customdata": [
          [
           "hamster",
           20
          ],
          [
           "saw dust",
           20
          ],
          [
           "hamster-cage",
           150
          ],
          [
           "book: how to care for your hamster",
           150
          ],
          [
           "hammer",
           200
          ],
          [
           "bag of nails",
           50
          ],
          [
           "128 GB SSD Hard drive",
           600
          ]
         ],
         "hovertemplate": "status=OPEN<br>email=%{x}<br>quantity=%{y}<br>name=%{customdata[0]}<br>price=%{customdata[1]}<extra></extra>",
         "legendgroup": "OPEN",
         "marker": {
          "color": "#636efa",
          "pattern": {
           "shape": ""
          }
         },
         "name": "OPEN",
         "offsetgroup": "OPEN",
         "orientation": "v",
         "showlegend": true,
         "textposition": "auto",
         "type": "bar",
         "x": [
          "tshepo@umuzi.org",
          "tshepo@umuzi.org",
          "tshepo@umuzi.org",
          "tshepo@umuzi.org",
          "mpho@umuzi.org",
          "mpho@umuzi.org",
          "mpho@umuzi.org"
         ],
         "xaxis": "x",
         "y": [
          2,
          1,
          1,
          1,
          1,
          1,
          2
         ],
         "yaxis": "y"
        },
        {
         "alignmentgroup": "True",
         "customdata": [
          [
           "balloons",
           25
          ],
          [
           "big friggin cake",
           150
          ],
          [
           "candles",
           30
          ],
          [
           "hamster",
           20
          ],
          [
           "saw dust",
           20
          ],
          [
           "hamster-cage",
           150
          ],
          [
           "128 GB SSD Hard drive",
           600
          ],
          [
           "book: how to succeed at being a hard arse",
           160
          ]
         ],
         "hovertemplate": "status=PAID<br>email=%{x}<br>quantity=%{y}<br>name=%{customdata[0]}<br>price=%{customdata[1]}<extra></extra>",
         "legendgroup": "PAID",
         "marker": {
          "color": "#EF553B",
          "pattern": {
           "shape": ""
          }
         },
         "name": "PAID",
         "offsetgroup": "PAID",
         "orientation": "v",
         "showlegend": true,
         "textposition": "auto",
         "type": "bar",
         "x": [
          "tshepo@umuzi.org",
          "tshepo@umuzi.org",
          "tshepo@umuzi.org",
          "sally@umuzi.org",
          "sally@umuzi.org",
          "sally@umuzi.org",
          "ryan@umuzi.org",
          "ryan@umuzi.org"
         ],
         "xaxis": "x",
         "y": [
          1,
          1,
          1,
          1,
          1,
          1,
          2,
          1
         ],
         "yaxis": "y"
        },
        {
         "alignmentgroup": "True",
         "customdata": [
          [
           "tooth brush",
           50
          ],
          [
           "soap",
           15
          ],
          [
           "tent",
           1999
          ],
          [
           "tent",
           1999
          ],
          [
           "headlamp",
           250
          ],
          [
           "hiking boots",
           1000
          ],
          [
           "book: how to care for your hamster",
           150
          ],
          [
           "balloons",
           25
          ],
          [
           "big friggin cake",
           150
          ],
          [
           "balloons",
           25
          ],
          [
           "big friggin cake",
           150
          ]
         ],
         "hovertemplate": "status=DELIVERED<br>email=%{x}<br>quantity=%{y}<br>name=%{customdata[0]}<br>price=%{customdata[1]}<extra></extra>",
         "legendgroup": "DELIVERED",
         "marker": {
          "color": "#00cc96",
          "pattern": {
           "shape": ""
          }
         },
         "name": "DELIVERED",
         "offsetgroup": "DELIVERED",
         "orientation": "v",
         "showlegend": true,
         "textposition": "auto",
         "type": "bar",
         "x": [
          "tshepo@umuzi.org",
          "tshepo@umuzi.org",
          "tshepo@umuzi.org",
          "sally@umuzi.org",
          "sally@umuzi.org",
          "sally@umuzi.org",
          "sally@umuzi.org",
          "mo@umuzi.org",
          "mo@umuzi.org",
          "mo@umuzi.org",
          "mo@umuzi.org"
         ],
         "xaxis": "x",
         "y": [
          1,
          3,
          1,
          1,
          1,
          1,
          1,
          1,
          2,
          1,
          1
         ],
         "yaxis": "y"
        }
       ],
       "layout": {
        "barmode": "group",
        "legend": {
         "title": {
          "text": "Status"
         },
         "tracegroupgap": 0
        },
        "margin": {
         "t": 60
        },
        "template": {
         "data": {
          "bar": [
           {
            "error_x": {
             "color": "#2a3f5f"
            },
            "error_y": {
             "color": "#2a3f5f"
            },
            "marker": {
             "line": {
              "color": "#E5ECF6",
              "width": 0.5
             },
             "pattern": {
              "fillmode": "overlay",
              "size": 10,
              "solidity": 0.2
             }
            },
            "type": "bar"
           }
          ],
          "barpolar": [
           {
            "marker": {
             "line": {
              "color": "#E5ECF6",
              "width": 0.5
             },
             "pattern": {
              "fillmode": "overlay",
              "size": 10,
              "solidity": 0.2
             }
            },
            "type": "barpolar"
           }
          ],
          "carpet": [
           {
            "aaxis": {
             "endlinecolor": "#2a3f5f",
             "gridcolor": "white",
             "linecolor": "white",
             "minorgridcolor": "white",
             "startlinecolor": "#2a3f5f"
            },
            "baxis": {
             "endlinecolor": "#2a3f5f",
             "gridcolor": "white",
             "linecolor": "white",
             "minorgridcolor": "white",
             "startlinecolor": "#2a3f5f"
            },
            "type": "carpet"
           }
          ],
          "choropleth": [
           {
            "colorbar": {
             "outlinewidth": 0,
             "ticks": ""
            },
            "type": "choropleth"
           }
          ],
          "contour": [
           {
            "colorbar": {
             "outlinewidth": 0,
             "ticks": ""
            },
            "colorscale": [
             [
              0,
              "#0d0887"
             ],
             [
              0.1111111111111111,
              "#46039f"
             ],
             [
              0.2222222222222222,
              "#7201a8"
             ],
             [
              0.3333333333333333,
              "#9c179e"
             ],
             [
              0.4444444444444444,
              "#bd3786"
             ],
             [
              0.5555555555555556,
              "#d8576b"
             ],
             [
              0.6666666666666666,
              "#ed7953"
             ],
             [
              0.7777777777777778,
              "#fb9f3a"
             ],
             [
              0.8888888888888888,
              "#fdca26"
             ],
             [
              1,
              "#f0f921"
             ]
            ],
            "type": "contour"
           }
          ],
          "contourcarpet": [
           {
            "colorbar": {
             "outlinewidth": 0,
             "ticks": ""
            },
            "type": "contourcarpet"
           }
          ],
          "heatmap": [
           {
            "colorbar": {
             "outlinewidth": 0,
             "ticks": ""
            },
            "colorscale": [
             [
              0,
              "#0d0887"
             ],
             [
              0.1111111111111111,
              "#46039f"
             ],
             [
              0.2222222222222222,
              "#7201a8"
             ],
             [
              0.3333333333333333,
              "#9c179e"
             ],
             [
              0.4444444444444444,
              "#bd3786"
             ],
             [
              0.5555555555555556,
              "#d8576b"
             ],
             [
              0.6666666666666666,
              "#ed7953"
             ],
             [
              0.7777777777777778,
              "#fb9f3a"
             ],
             [
              0.8888888888888888,
              "#fdca26"
             ],
             [
              1,
              "#f0f921"
             ]
            ],
            "type": "heatmap"
           }
          ],
          "heatmapgl": [
           {
            "colorbar": {
             "outlinewidth": 0,
             "ticks": ""
            },
            "colorscale": [
             [
              0,
              "#0d0887"
             ],
             [
              0.1111111111111111,
              "#46039f"
             ],
             [
              0.2222222222222222,
              "#7201a8"
             ],
             [
              0.3333333333333333,
              "#9c179e"
             ],
             [
              0.4444444444444444,
              "#bd3786"
             ],
             [
              0.5555555555555556,
              "#d8576b"
             ],
             [
              0.6666666666666666,
              "#ed7953"
             ],
             [
              0.7777777777777778,
              "#fb9f3a"
             ],
             [
              0.8888888888888888,
              "#fdca26"
             ],
             [
              1,
              "#f0f921"
             ]
            ],
            "type": "heatmapgl"
           }
          ],
          "histogram": [
           {
            "marker": {
             "pattern": {
              "fillmode": "overlay",
              "size": 10,
              "solidity": 0.2
             }
            },
            "type": "histogram"
           }
          ],
          "histogram2d": [
           {
            "colorbar": {
             "outlinewidth": 0,
             "ticks": ""
            },
            "colorscale": [
             [
              0,
              "#0d0887"
             ],
             [
              0.1111111111111111,
              "#46039f"
             ],
             [
              0.2222222222222222,
              "#7201a8"
             ],
             [
              0.3333333333333333,
              "#9c179e"
             ],
             [
              0.4444444444444444,
              "#bd3786"
             ],
             [
              0.5555555555555556,
              "#d8576b"
             ],
             [
              0.6666666666666666,
              "#ed7953"
             ],
             [
              0.7777777777777778,
              "#fb9f3a"
             ],
             [
              0.8888888888888888,
              "#fdca26"
             ],
             [
              1,
              "#f0f921"
             ]
            ],
            "type": "histogram2d"
           }
          ],
          "histogram2dcontour": [
           {
            "colorbar": {
             "outlinewidth": 0,
             "ticks": ""
            },
            "colorscale": [
             [
              0,
              "#0d0887"
             ],
             [
              0.1111111111111111,
              "#46039f"
             ],
             [
              0.2222222222222222,
              "#7201a8"
             ],
             [
              0.3333333333333333,
              "#9c179e"
             ],
             [
              0.4444444444444444,
              "#bd3786"
             ],
             [
              0.5555555555555556,
              "#d8576b"
             ],
             [
              0.6666666666666666,
              "#ed7953"
             ],
             [
              0.7777777777777778,
              "#fb9f3a"
             ],
             [
              0.8888888888888888,
              "#fdca26"
             ],
             [
              1,
              "#f0f921"
             ]
            ],
            "type": "histogram2dcontour"
           }
          ],
          "mesh3d": [
           {
            "colorbar": {
             "outlinewidth": 0,
             "ticks": ""
            },
            "type": "mesh3d"
           }
          ],
          "parcoords": [
           {
            "line": {
             "colorbar": {
              "outlinewidth": 0,
              "ticks": ""
             }
            },
            "type": "parcoords"
           }
          ],
          "pie": [
           {
            "automargin": true,
            "type": "pie"
           }
          ],
          "scatter": [
           {
            "fillpattern": {
             "fillmode": "overlay",
             "size": 10,
             "solidity": 0.2
            },
            "type": "scatter"
           }
          ],
          "scatter3d": [
           {
            "line": {
             "colorbar": {
              "outlinewidth": 0,
              "ticks": ""
             }
            },
            "marker": {
             "colorbar": {
              "outlinewidth": 0,
              "ticks": ""
             }
            },
            "type": "scatter3d"
           }
          ],
          "scattercarpet": [
           {
            "marker": {
             "colorbar": {
              "outlinewidth": 0,
              "ticks": ""
             }
            },
            "type": "scattercarpet"
           }
          ],
          "scattergeo": [
           {
            "marker": {
             "colorbar": {
              "outlinewidth": 0,
              "ticks": ""
             }
            },
            "type": "scattergeo"
           }
          ],
          "scattergl": [
           {
            "marker": {
             "colorbar": {
              "outlinewidth": 0,
              "ticks": ""
             }
            },
            "type": "scattergl"
           }
          ],
          "scattermapbox": [
           {
            "marker": {
             "colorbar": {
              "outlinewidth": 0,
              "ticks": ""
             }
            },
            "type": "scattermapbox"
           }
          ],
          "scatterpolar": [
           {
            "marker": {
             "colorbar": {
              "outlinewidth": 0,
              "ticks": ""
             }
            },
            "type": "scatterpolar"
           }
          ],
          "scatterpolargl": [
           {
            "marker": {
             "colorbar": {
              "outlinewidth": 0,
              "ticks": ""
             }
            },
            "type": "scatterpolargl"
           }
          ],
          "scatterternary": [
           {
            "marker": {
             "colorbar": {
              "outlinewidth": 0,
              "ticks": ""
             }
            },
            "type": "scatterternary"
           }
          ],
          "surface": [
           {
            "colorbar": {
             "outlinewidth": 0,
             "ticks": ""
            },
            "colorscale": [
             [
              0,
              "#0d0887"
             ],
             [
              0.1111111111111111,
              "#46039f"
             ],
             [
              0.2222222222222222,
              "#7201a8"
             ],
             [
              0.3333333333333333,
              "#9c179e"
             ],
             [
              0.4444444444444444,
              "#bd3786"
             ],
             [
              0.5555555555555556,
              "#d8576b"
             ],
             [
              0.6666666666666666,
              "#ed7953"
             ],
             [
              0.7777777777777778,
              "#fb9f3a"
             ],
             [
              0.8888888888888888,
              "#fdca26"
             ],
             [
              1,
              "#f0f921"
             ]
            ],
            "type": "surface"
           }
          ],
          "table": [
           {
            "cells": {
             "fill": {
              "color": "#EBF0F8"
             },
             "line": {
              "color": "white"
             }
            },
            "header": {
             "fill": {
              "color": "#C8D4E3"
             },
             "line": {
              "color": "white"
             }
            },
            "type": "table"
           }
          ]
         },
         "layout": {
          "annotationdefaults": {
           "arrowcolor": "#2a3f5f",
           "arrowhead": 0,
           "arrowwidth": 1
          },
          "autotypenumbers": "strict",
          "coloraxis": {
           "colorbar": {
            "outlinewidth": 0,
            "ticks": ""
           }
          },
          "colorscale": {
           "diverging": [
            [
             0,
             "#8e0152"
            ],
            [
             0.1,
             "#c51b7d"
            ],
            [
             0.2,
             "#de77ae"
            ],
            [
             0.3,
             "#f1b6da"
            ],
            [
             0.4,
             "#fde0ef"
            ],
            [
             0.5,
             "#f7f7f7"
            ],
            [
             0.6,
             "#e6f5d0"
            ],
            [
             0.7,
             "#b8e186"
            ],
            [
             0.8,
             "#7fbc41"
            ],
            [
             0.9,
             "#4d9221"
            ],
            [
             1,
             "#276419"
            ]
           ],
           "sequential": [
            [
             0,
             "#0d0887"
            ],
            [
             0.1111111111111111,
             "#46039f"
            ],
            [
             0.2222222222222222,
             "#7201a8"
            ],
            [
             0.3333333333333333,
             "#9c179e"
            ],
            [
             0.4444444444444444,
             "#bd3786"
            ],
            [
             0.5555555555555556,
             "#d8576b"
            ],
            [
             0.6666666666666666,
             "#ed7953"
            ],
            [
             0.7777777777777778,
             "#fb9f3a"
            ],
            [
             0.8888888888888888,
             "#fdca26"
            ],
            [
             1,
             "#f0f921"
            ]
           ],
           "sequentialminus": [
            [
             0,
             "#0d0887"
            ],
            [
             0.1111111111111111,
             "#46039f"
            ],
            [
             0.2222222222222222,
             "#7201a8"
            ],
            [
             0.3333333333333333,
             "#9c179e"
            ],
            [
             0.4444444444444444,
             "#bd3786"
            ],
            [
             0.5555555555555556,
             "#d8576b"
            ],
            [
             0.6666666666666666,
             "#ed7953"
            ],
            [
             0.7777777777777778,
             "#fb9f3a"
            ],
            [
             0.8888888888888888,
             "#fdca26"
            ],
            [
             1,
             "#f0f921"
            ]
           ]
          },
          "colorway": [
           "#636efa",
           "#EF553B",
           "#00cc96",
           "#ab63fa",
           "#FFA15A",
           "#19d3f3",
           "#FF6692",
           "#B6E880",
           "#FF97FF",
           "#FECB52"
          ],
          "font": {
           "color": "#2a3f5f"
          },
          "geo": {
           "bgcolor": "white",
           "lakecolor": "white",
           "landcolor": "#E5ECF6",
           "showlakes": true,
           "showland": true,
           "subunitcolor": "white"
          },
          "hoverlabel": {
           "align": "left"
          },
          "hovermode": "closest",
          "mapbox": {
           "style": "light"
          },
          "paper_bgcolor": "white",
          "plot_bgcolor": "#E5ECF6",
          "polar": {
           "angularaxis": {
            "gridcolor": "white",
            "linecolor": "white",
            "ticks": ""
           },
           "bgcolor": "#E5ECF6",
           "radialaxis": {
            "gridcolor": "white",
            "linecolor": "white",
            "ticks": ""
           }
          },
          "scene": {
           "xaxis": {
            "backgroundcolor": "#E5ECF6",
            "gridcolor": "white",
            "gridwidth": 2,
            "linecolor": "white",
            "showbackground": true,
            "ticks": "",
            "zerolinecolor": "white"
           },
           "yaxis": {
            "backgroundcolor": "#E5ECF6",
            "gridcolor": "white",
            "gridwidth": 2,
            "linecolor": "white",
            "showbackground": true,
            "ticks": "",
            "zerolinecolor": "white"
           },
           "zaxis": {
            "backgroundcolor": "#E5ECF6",
            "gridcolor": "white",
            "gridwidth": 2,
            "linecolor": "white",
            "showbackground": true,
            "ticks": "",
            "zerolinecolor": "white"
           }
          },
          "shapedefaults": {
           "line": {
            "color": "#2a3f5f"
           }
          },
          "ternary": {
           "aaxis": {
            "gridcolor": "white",
            "linecolor": "white",
            "ticks": ""
           },
           "baxis": {
            "gridcolor": "white",
            "linecolor": "white",
            "ticks": ""
           },
           "bgcolor": "#E5ECF6",
           "caxis": {
            "gridcolor": "white",
            "linecolor": "white",
            "ticks": ""
           }
          },
          "title": {
           "x": 0.05
          },
          "xaxis": {
           "automargin": true,
           "gridcolor": "white",
           "linecolor": "white",
           "ticks": "",
           "title": {
            "standoff": 15
           },
           "zerolinecolor": "white",
           "zerolinewidth": 2
          },
          "yaxis": {
           "automargin": true,
           "gridcolor": "white",
           "linecolor": "white",
           "ticks": "",
           "title": {
            "standoff": 15
           },
           "zerolinecolor": "white",
           "zerolinewidth": 2
          }
         }
        },
        "title": {
         "text": "<b>Purchase Summary by Email and Status<b>",
         "x": 0.5
        },
        "xaxis": {
         "anchor": "y",
         "domain": [
          0,
          1
         ],
         "title": {
          "text": "Email"
         }
        },
        "yaxis": {
         "anchor": "x",
         "domain": [
          0,
          1
         ],
         "title": {
          "text": "Quantity"
         }
        }
       }
      }
     },
     "metadata": {},
     "output_type": "display_data"
    }
   ],
   "source": [
    "import plotly.express as px\n",
    "\n",
    "fig = px.bar(result, x='email', y='quantity', color='status', barmode='group',\n",
    "             hover_data=['name', 'price'])\n",
    "\n",
    "fig.update_layout(\n",
    "    title='<b>Purchase Summary by Email and Status<b>',\n",
    "    title_x=0.5,  \n",
    "    xaxis_title='Email',\n",
    "    yaxis_title='Quantity',\n",
    "    legend_title='Status'\n",
    ")\n",
    "\n",
    "fig.show()\n",
    "\n"
   ]
  },
  {
   "cell_type": "code",
   "execution_count": 7,
   "metadata": {},
   "outputs": [
    {
     "data": {
      "application/vnd.plotly.v1+json": {
       "config": {
        "plotlyServerURL": "https://plot.ly"
       },
       "data": [
        {
         "alignmentgroup": "True",
         "hovertemplate": "status=OPEN<br>email=%{x}<br>price=%{y}<extra></extra>",
         "legendgroup": "OPEN",
         "marker": {
          "color": "#636efa",
          "pattern": {
           "shape": ""
          }
         },
         "name": "OPEN",
         "offsetgroup": "OPEN",
         "orientation": "v",
         "showlegend": true,
         "textposition": "auto",
         "type": "bar",
         "x": [
          "tshepo@umuzi.org",
          "tshepo@umuzi.org",
          "tshepo@umuzi.org",
          "tshepo@umuzi.org",
          "mpho@umuzi.org",
          "mpho@umuzi.org",
          "mpho@umuzi.org"
         ],
         "xaxis": "x",
         "y": [
          20,
          20,
          150,
          150,
          200,
          50,
          600
         ],
         "yaxis": "y"
        },
        {
         "alignmentgroup": "True",
         "hovertemplate": "status=PAID<br>email=%{x}<br>price=%{y}<extra></extra>",
         "legendgroup": "PAID",
         "marker": {
          "color": "#EF553B",
          "pattern": {
           "shape": ""
          }
         },
         "name": "PAID",
         "offsetgroup": "PAID",
         "orientation": "v",
         "showlegend": true,
         "textposition": "auto",
         "type": "bar",
         "x": [
          "tshepo@umuzi.org",
          "tshepo@umuzi.org",
          "tshepo@umuzi.org",
          "sally@umuzi.org",
          "sally@umuzi.org",
          "sally@umuzi.org",
          "ryan@umuzi.org",
          "ryan@umuzi.org"
         ],
         "xaxis": "x",
         "y": [
          25,
          150,
          30,
          20,
          20,
          150,
          600,
          160
         ],
         "yaxis": "y"
        },
        {
         "alignmentgroup": "True",
         "hovertemplate": "status=DELIVERED<br>email=%{x}<br>price=%{y}<extra></extra>",
         "legendgroup": "DELIVERED",
         "marker": {
          "color": "#00cc96",
          "pattern": {
           "shape": ""
          }
         },
         "name": "DELIVERED",
         "offsetgroup": "DELIVERED",
         "orientation": "v",
         "showlegend": true,
         "textposition": "auto",
         "type": "bar",
         "x": [
          "tshepo@umuzi.org",
          "tshepo@umuzi.org",
          "tshepo@umuzi.org",
          "sally@umuzi.org",
          "sally@umuzi.org",
          "sally@umuzi.org",
          "sally@umuzi.org",
          "mo@umuzi.org",
          "mo@umuzi.org",
          "mo@umuzi.org",
          "mo@umuzi.org"
         ],
         "xaxis": "x",
         "y": [
          50,
          15,
          1999,
          1999,
          250,
          1000,
          150,
          25,
          150,
          25,
          150
         ],
         "yaxis": "y"
        }
       ],
       "layout": {
        "barmode": "group",
        "legend": {
         "title": {
          "text": "status"
         },
         "tracegroupgap": 0
        },
        "margin": {
         "t": 60
        },
        "template": {
         "data": {
          "bar": [
           {
            "error_x": {
             "color": "#2a3f5f"
            },
            "error_y": {
             "color": "#2a3f5f"
            },
            "marker": {
             "line": {
              "color": "#E5ECF6",
              "width": 0.5
             },
             "pattern": {
              "fillmode": "overlay",
              "size": 10,
              "solidity": 0.2
             }
            },
            "type": "bar"
           }
          ],
          "barpolar": [
           {
            "marker": {
             "line": {
              "color": "#E5ECF6",
              "width": 0.5
             },
             "pattern": {
              "fillmode": "overlay",
              "size": 10,
              "solidity": 0.2
             }
            },
            "type": "barpolar"
           }
          ],
          "carpet": [
           {
            "aaxis": {
             "endlinecolor": "#2a3f5f",
             "gridcolor": "white",
             "linecolor": "white",
             "minorgridcolor": "white",
             "startlinecolor": "#2a3f5f"
            },
            "baxis": {
             "endlinecolor": "#2a3f5f",
             "gridcolor": "white",
             "linecolor": "white",
             "minorgridcolor": "white",
             "startlinecolor": "#2a3f5f"
            },
            "type": "carpet"
           }
          ],
          "choropleth": [
           {
            "colorbar": {
             "outlinewidth": 0,
             "ticks": ""
            },
            "type": "choropleth"
           }
          ],
          "contour": [
           {
            "colorbar": {
             "outlinewidth": 0,
             "ticks": ""
            },
            "colorscale": [
             [
              0,
              "#0d0887"
             ],
             [
              0.1111111111111111,
              "#46039f"
             ],
             [
              0.2222222222222222,
              "#7201a8"
             ],
             [
              0.3333333333333333,
              "#9c179e"
             ],
             [
              0.4444444444444444,
              "#bd3786"
             ],
             [
              0.5555555555555556,
              "#d8576b"
             ],
             [
              0.6666666666666666,
              "#ed7953"
             ],
             [
              0.7777777777777778,
              "#fb9f3a"
             ],
             [
              0.8888888888888888,
              "#fdca26"
             ],
             [
              1,
              "#f0f921"
             ]
            ],
            "type": "contour"
           }
          ],
          "contourcarpet": [
           {
            "colorbar": {
             "outlinewidth": 0,
             "ticks": ""
            },
            "type": "contourcarpet"
           }
          ],
          "heatmap": [
           {
            "colorbar": {
             "outlinewidth": 0,
             "ticks": ""
            },
            "colorscale": [
             [
              0,
              "#0d0887"
             ],
             [
              0.1111111111111111,
              "#46039f"
             ],
             [
              0.2222222222222222,
              "#7201a8"
             ],
             [
              0.3333333333333333,
              "#9c179e"
             ],
             [
              0.4444444444444444,
              "#bd3786"
             ],
             [
              0.5555555555555556,
              "#d8576b"
             ],
             [
              0.6666666666666666,
              "#ed7953"
             ],
             [
              0.7777777777777778,
              "#fb9f3a"
             ],
             [
              0.8888888888888888,
              "#fdca26"
             ],
             [
              1,
              "#f0f921"
             ]
            ],
            "type": "heatmap"
           }
          ],
          "heatmapgl": [
           {
            "colorbar": {
             "outlinewidth": 0,
             "ticks": ""
            },
            "colorscale": [
             [
              0,
              "#0d0887"
             ],
             [
              0.1111111111111111,
              "#46039f"
             ],
             [
              0.2222222222222222,
              "#7201a8"
             ],
             [
              0.3333333333333333,
              "#9c179e"
             ],
             [
              0.4444444444444444,
              "#bd3786"
             ],
             [
              0.5555555555555556,
              "#d8576b"
             ],
             [
              0.6666666666666666,
              "#ed7953"
             ],
             [
              0.7777777777777778,
              "#fb9f3a"
             ],
             [
              0.8888888888888888,
              "#fdca26"
             ],
             [
              1,
              "#f0f921"
             ]
            ],
            "type": "heatmapgl"
           }
          ],
          "histogram": [
           {
            "marker": {
             "pattern": {
              "fillmode": "overlay",
              "size": 10,
              "solidity": 0.2
             }
            },
            "type": "histogram"
           }
          ],
          "histogram2d": [
           {
            "colorbar": {
             "outlinewidth": 0,
             "ticks": ""
            },
            "colorscale": [
             [
              0,
              "#0d0887"
             ],
             [
              0.1111111111111111,
              "#46039f"
             ],
             [
              0.2222222222222222,
              "#7201a8"
             ],
             [
              0.3333333333333333,
              "#9c179e"
             ],
             [
              0.4444444444444444,
              "#bd3786"
             ],
             [
              0.5555555555555556,
              "#d8576b"
             ],
             [
              0.6666666666666666,
              "#ed7953"
             ],
             [
              0.7777777777777778,
              "#fb9f3a"
             ],
             [
              0.8888888888888888,
              "#fdca26"
             ],
             [
              1,
              "#f0f921"
             ]
            ],
            "type": "histogram2d"
           }
          ],
          "histogram2dcontour": [
           {
            "colorbar": {
             "outlinewidth": 0,
             "ticks": ""
            },
            "colorscale": [
             [
              0,
              "#0d0887"
             ],
             [
              0.1111111111111111,
              "#46039f"
             ],
             [
              0.2222222222222222,
              "#7201a8"
             ],
             [
              0.3333333333333333,
              "#9c179e"
             ],
             [
              0.4444444444444444,
              "#bd3786"
             ],
             [
              0.5555555555555556,
              "#d8576b"
             ],
             [
              0.6666666666666666,
              "#ed7953"
             ],
             [
              0.7777777777777778,
              "#fb9f3a"
             ],
             [
              0.8888888888888888,
              "#fdca26"
             ],
             [
              1,
              "#f0f921"
             ]
            ],
            "type": "histogram2dcontour"
           }
          ],
          "mesh3d": [
           {
            "colorbar": {
             "outlinewidth": 0,
             "ticks": ""
            },
            "type": "mesh3d"
           }
          ],
          "parcoords": [
           {
            "line": {
             "colorbar": {
              "outlinewidth": 0,
              "ticks": ""
             }
            },
            "type": "parcoords"
           }
          ],
          "pie": [
           {
            "automargin": true,
            "type": "pie"
           }
          ],
          "scatter": [
           {
            "fillpattern": {
             "fillmode": "overlay",
             "size": 10,
             "solidity": 0.2
            },
            "type": "scatter"
           }
          ],
          "scatter3d": [
           {
            "line": {
             "colorbar": {
              "outlinewidth": 0,
              "ticks": ""
             }
            },
            "marker": {
             "colorbar": {
              "outlinewidth": 0,
              "ticks": ""
             }
            },
            "type": "scatter3d"
           }
          ],
          "scattercarpet": [
           {
            "marker": {
             "colorbar": {
              "outlinewidth": 0,
              "ticks": ""
             }
            },
            "type": "scattercarpet"
           }
          ],
          "scattergeo": [
           {
            "marker": {
             "colorbar": {
              "outlinewidth": 0,
              "ticks": ""
             }
            },
            "type": "scattergeo"
           }
          ],
          "scattergl": [
           {
            "marker": {
             "colorbar": {
              "outlinewidth": 0,
              "ticks": ""
             }
            },
            "type": "scattergl"
           }
          ],
          "scattermapbox": [
           {
            "marker": {
             "colorbar": {
              "outlinewidth": 0,
              "ticks": ""
             }
            },
            "type": "scattermapbox"
           }
          ],
          "scatterpolar": [
           {
            "marker": {
             "colorbar": {
              "outlinewidth": 0,
              "ticks": ""
             }
            },
            "type": "scatterpolar"
           }
          ],
          "scatterpolargl": [
           {
            "marker": {
             "colorbar": {
              "outlinewidth": 0,
              "ticks": ""
             }
            },
            "type": "scatterpolargl"
           }
          ],
          "scatterternary": [
           {
            "marker": {
             "colorbar": {
              "outlinewidth": 0,
              "ticks": ""
             }
            },
            "type": "scatterternary"
           }
          ],
          "surface": [
           {
            "colorbar": {
             "outlinewidth": 0,
             "ticks": ""
            },
            "colorscale": [
             [
              0,
              "#0d0887"
             ],
             [
              0.1111111111111111,
              "#46039f"
             ],
             [
              0.2222222222222222,
              "#7201a8"
             ],
             [
              0.3333333333333333,
              "#9c179e"
             ],
             [
              0.4444444444444444,
              "#bd3786"
             ],
             [
              0.5555555555555556,
              "#d8576b"
             ],
             [
              0.6666666666666666,
              "#ed7953"
             ],
             [
              0.7777777777777778,
              "#fb9f3a"
             ],
             [
              0.8888888888888888,
              "#fdca26"
             ],
             [
              1,
              "#f0f921"
             ]
            ],
            "type": "surface"
           }
          ],
          "table": [
           {
            "cells": {
             "fill": {
              "color": "#EBF0F8"
             },
             "line": {
              "color": "white"
             }
            },
            "header": {
             "fill": {
              "color": "#C8D4E3"
             },
             "line": {
              "color": "white"
             }
            },
            "type": "table"
           }
          ]
         },
         "layout": {
          "annotationdefaults": {
           "arrowcolor": "#2a3f5f",
           "arrowhead": 0,
           "arrowwidth": 1
          },
          "autotypenumbers": "strict",
          "coloraxis": {
           "colorbar": {
            "outlinewidth": 0,
            "ticks": ""
           }
          },
          "colorscale": {
           "diverging": [
            [
             0,
             "#8e0152"
            ],
            [
             0.1,
             "#c51b7d"
            ],
            [
             0.2,
             "#de77ae"
            ],
            [
             0.3,
             "#f1b6da"
            ],
            [
             0.4,
             "#fde0ef"
            ],
            [
             0.5,
             "#f7f7f7"
            ],
            [
             0.6,
             "#e6f5d0"
            ],
            [
             0.7,
             "#b8e186"
            ],
            [
             0.8,
             "#7fbc41"
            ],
            [
             0.9,
             "#4d9221"
            ],
            [
             1,
             "#276419"
            ]
           ],
           "sequential": [
            [
             0,
             "#0d0887"
            ],
            [
             0.1111111111111111,
             "#46039f"
            ],
            [
             0.2222222222222222,
             "#7201a8"
            ],
            [
             0.3333333333333333,
             "#9c179e"
            ],
            [
             0.4444444444444444,
             "#bd3786"
            ],
            [
             0.5555555555555556,
             "#d8576b"
            ],
            [
             0.6666666666666666,
             "#ed7953"
            ],
            [
             0.7777777777777778,
             "#fb9f3a"
            ],
            [
             0.8888888888888888,
             "#fdca26"
            ],
            [
             1,
             "#f0f921"
            ]
           ],
           "sequentialminus": [
            [
             0,
             "#0d0887"
            ],
            [
             0.1111111111111111,
             "#46039f"
            ],
            [
             0.2222222222222222,
             "#7201a8"
            ],
            [
             0.3333333333333333,
             "#9c179e"
            ],
            [
             0.4444444444444444,
             "#bd3786"
            ],
            [
             0.5555555555555556,
             "#d8576b"
            ],
            [
             0.6666666666666666,
             "#ed7953"
            ],
            [
             0.7777777777777778,
             "#fb9f3a"
            ],
            [
             0.8888888888888888,
             "#fdca26"
            ],
            [
             1,
             "#f0f921"
            ]
           ]
          },
          "colorway": [
           "#636efa",
           "#EF553B",
           "#00cc96",
           "#ab63fa",
           "#FFA15A",
           "#19d3f3",
           "#FF6692",
           "#B6E880",
           "#FF97FF",
           "#FECB52"
          ],
          "font": {
           "color": "#2a3f5f"
          },
          "geo": {
           "bgcolor": "white",
           "lakecolor": "white",
           "landcolor": "#E5ECF6",
           "showlakes": true,
           "showland": true,
           "subunitcolor": "white"
          },
          "hoverlabel": {
           "align": "left"
          },
          "hovermode": "closest",
          "mapbox": {
           "style": "light"
          },
          "paper_bgcolor": "white",
          "plot_bgcolor": "#E5ECF6",
          "polar": {
           "angularaxis": {
            "gridcolor": "white",
            "linecolor": "white",
            "ticks": ""
           },
           "bgcolor": "#E5ECF6",
           "radialaxis": {
            "gridcolor": "white",
            "linecolor": "white",
            "ticks": ""
           }
          },
          "scene": {
           "xaxis": {
            "backgroundcolor": "#E5ECF6",
            "gridcolor": "white",
            "gridwidth": 2,
            "linecolor": "white",
            "showbackground": true,
            "ticks": "",
            "zerolinecolor": "white"
           },
           "yaxis": {
            "backgroundcolor": "#E5ECF6",
            "gridcolor": "white",
            "gridwidth": 2,
            "linecolor": "white",
            "showbackground": true,
            "ticks": "",
            "zerolinecolor": "white"
           },
           "zaxis": {
            "backgroundcolor": "#E5ECF6",
            "gridcolor": "white",
            "gridwidth": 2,
            "linecolor": "white",
            "showbackground": true,
            "ticks": "",
            "zerolinecolor": "white"
           }
          },
          "shapedefaults": {
           "line": {
            "color": "#2a3f5f"
           }
          },
          "ternary": {
           "aaxis": {
            "gridcolor": "white",
            "linecolor": "white",
            "ticks": ""
           },
           "baxis": {
            "gridcolor": "white",
            "linecolor": "white",
            "ticks": ""
           },
           "bgcolor": "#E5ECF6",
           "caxis": {
            "gridcolor": "white",
            "linecolor": "white",
            "ticks": ""
           }
          },
          "title": {
           "x": 0.05
          },
          "xaxis": {
           "automargin": true,
           "gridcolor": "white",
           "linecolor": "white",
           "ticks": "",
           "title": {
            "standoff": 15
           },
           "zerolinecolor": "white",
           "zerolinewidth": 2
          },
          "yaxis": {
           "automargin": true,
           "gridcolor": "white",
           "linecolor": "white",
           "ticks": "",
           "title": {
            "standoff": 15
           },
           "zerolinecolor": "white",
           "zerolinewidth": 2
          }
         }
        },
        "title": {
         "text": "<b>Customer spend and status<b>",
         "x": 0.5
        },
        "xaxis": {
         "anchor": "y",
         "domain": [
          0,
          1
         ],
         "title": {
          "text": "Email"
         }
        },
        "yaxis": {
         "anchor": "x",
         "domain": [
          0,
          1
         ],
         "title": {
          "text": "Quantity"
         }
        }
       }
      }
     },
     "metadata": {},
     "output_type": "display_data"
    }
   ],
   "source": [
    "import plotly.express as px\n",
    "\n",
    "fig = px.bar(result, x='email', y='price', color='status', barmode='group')\n",
    "\n",
    "fig.update_layout(\n",
    "    title='<b>Customer spend and status<b>',\n",
    "    title_x=0.5,  \n",
    "    xaxis_title='Email',\n",
    "    yaxis_title='Quantity'\n",
    ")\n",
    "\n",
    "fig.show()"
   ]
  },
  {
   "cell_type": "markdown",
   "metadata": {},
   "source": [
    "### **1.3 Items summary**\n",
    "You can also group by the name of the items for invetory purposes."
   ]
  },
  {
   "cell_type": "code",
   "execution_count": 8,
   "metadata": {},
   "outputs": [
    {
     "data": {
      "text/html": [
       "<div>\n",
       "<style scoped>\n",
       "    .dataframe tbody tr th:only-of-type {\n",
       "        vertical-align: middle;\n",
       "    }\n",
       "\n",
       "    .dataframe tbody tr th {\n",
       "        vertical-align: top;\n",
       "    }\n",
       "\n",
       "    .dataframe thead th {\n",
       "        text-align: right;\n",
       "    }\n",
       "</style>\n",
       "<table border=\"1\" class=\"dataframe\">\n",
       "  <thead>\n",
       "    <tr style=\"text-align: right;\">\n",
       "      <th></th>\n",
       "      <th></th>\n",
       "      <th>quantity</th>\n",
       "      <th>price</th>\n",
       "    </tr>\n",
       "    <tr>\n",
       "      <th>name</th>\n",
       "      <th>status</th>\n",
       "      <th></th>\n",
       "      <th></th>\n",
       "    </tr>\n",
       "  </thead>\n",
       "  <tbody>\n",
       "    <tr>\n",
       "      <th rowspan=\"3\" valign=\"top\">128 GB SSD Hard drive</th>\n",
       "      <th>DELIVERED</th>\n",
       "      <td>0.0</td>\n",
       "      <td>0.0</td>\n",
       "    </tr>\n",
       "    <tr>\n",
       "      <th>OPEN</th>\n",
       "      <td>2.0</td>\n",
       "      <td>600.0</td>\n",
       "    </tr>\n",
       "    <tr>\n",
       "      <th>PAID</th>\n",
       "      <td>2.0</td>\n",
       "      <td>600.0</td>\n",
       "    </tr>\n",
       "    <tr>\n",
       "      <th rowspan=\"3\" valign=\"top\">bag of nails</th>\n",
       "      <th>DELIVERED</th>\n",
       "      <td>0.0</td>\n",
       "      <td>0.0</td>\n",
       "    </tr>\n",
       "    <tr>\n",
       "      <th>OPEN</th>\n",
       "      <td>1.0</td>\n",
       "      <td>50.0</td>\n",
       "    </tr>\n",
       "    <tr>\n",
       "      <th>PAID</th>\n",
       "      <td>0.0</td>\n",
       "      <td>0.0</td>\n",
       "    </tr>\n",
       "    <tr>\n",
       "      <th rowspan=\"3\" valign=\"top\">balloons</th>\n",
       "      <th>DELIVERED</th>\n",
       "      <td>2.0</td>\n",
       "      <td>50.0</td>\n",
       "    </tr>\n",
       "    <tr>\n",
       "      <th>OPEN</th>\n",
       "      <td>0.0</td>\n",
       "      <td>0.0</td>\n",
       "    </tr>\n",
       "    <tr>\n",
       "      <th>PAID</th>\n",
       "      <td>1.0</td>\n",
       "      <td>25.0</td>\n",
       "    </tr>\n",
       "    <tr>\n",
       "      <th rowspan=\"3\" valign=\"top\">big friggin cake</th>\n",
       "      <th>DELIVERED</th>\n",
       "      <td>3.0</td>\n",
       "      <td>300.0</td>\n",
       "    </tr>\n",
       "    <tr>\n",
       "      <th>OPEN</th>\n",
       "      <td>0.0</td>\n",
       "      <td>0.0</td>\n",
       "    </tr>\n",
       "    <tr>\n",
       "      <th>PAID</th>\n",
       "      <td>1.0</td>\n",
       "      <td>150.0</td>\n",
       "    </tr>\n",
       "    <tr>\n",
       "      <th rowspan=\"3\" valign=\"top\">book: how to care for your hamster</th>\n",
       "      <th>DELIVERED</th>\n",
       "      <td>1.0</td>\n",
       "      <td>150.0</td>\n",
       "    </tr>\n",
       "    <tr>\n",
       "      <th>OPEN</th>\n",
       "      <td>1.0</td>\n",
       "      <td>150.0</td>\n",
       "    </tr>\n",
       "    <tr>\n",
       "      <th>PAID</th>\n",
       "      <td>0.0</td>\n",
       "      <td>0.0</td>\n",
       "    </tr>\n",
       "    <tr>\n",
       "      <th rowspan=\"3\" valign=\"top\">book: how to succeed at being a hard arse</th>\n",
       "      <th>DELIVERED</th>\n",
       "      <td>0.0</td>\n",
       "      <td>0.0</td>\n",
       "    </tr>\n",
       "    <tr>\n",
       "      <th>OPEN</th>\n",
       "      <td>0.0</td>\n",
       "      <td>0.0</td>\n",
       "    </tr>\n",
       "    <tr>\n",
       "      <th>PAID</th>\n",
       "      <td>1.0</td>\n",
       "      <td>160.0</td>\n",
       "    </tr>\n",
       "    <tr>\n",
       "      <th rowspan=\"3\" valign=\"top\">candles</th>\n",
       "      <th>DELIVERED</th>\n",
       "      <td>0.0</td>\n",
       "      <td>0.0</td>\n",
       "    </tr>\n",
       "    <tr>\n",
       "      <th>OPEN</th>\n",
       "      <td>0.0</td>\n",
       "      <td>0.0</td>\n",
       "    </tr>\n",
       "    <tr>\n",
       "      <th>PAID</th>\n",
       "      <td>1.0</td>\n",
       "      <td>30.0</td>\n",
       "    </tr>\n",
       "    <tr>\n",
       "      <th rowspan=\"3\" valign=\"top\">hammer</th>\n",
       "      <th>DELIVERED</th>\n",
       "      <td>0.0</td>\n",
       "      <td>0.0</td>\n",
       "    </tr>\n",
       "    <tr>\n",
       "      <th>OPEN</th>\n",
       "      <td>1.0</td>\n",
       "      <td>200.0</td>\n",
       "    </tr>\n",
       "    <tr>\n",
       "      <th>PAID</th>\n",
       "      <td>0.0</td>\n",
       "      <td>0.0</td>\n",
       "    </tr>\n",
       "    <tr>\n",
       "      <th rowspan=\"3\" valign=\"top\">hamster</th>\n",
       "      <th>DELIVERED</th>\n",
       "      <td>0.0</td>\n",
       "      <td>0.0</td>\n",
       "    </tr>\n",
       "    <tr>\n",
       "      <th>OPEN</th>\n",
       "      <td>2.0</td>\n",
       "      <td>20.0</td>\n",
       "    </tr>\n",
       "    <tr>\n",
       "      <th>PAID</th>\n",
       "      <td>1.0</td>\n",
       "      <td>20.0</td>\n",
       "    </tr>\n",
       "    <tr>\n",
       "      <th rowspan=\"3\" valign=\"top\">hamster-cage</th>\n",
       "      <th>DELIVERED</th>\n",
       "      <td>0.0</td>\n",
       "      <td>0.0</td>\n",
       "    </tr>\n",
       "    <tr>\n",
       "      <th>OPEN</th>\n",
       "      <td>1.0</td>\n",
       "      <td>150.0</td>\n",
       "    </tr>\n",
       "    <tr>\n",
       "      <th>PAID</th>\n",
       "      <td>1.0</td>\n",
       "      <td>150.0</td>\n",
       "    </tr>\n",
       "    <tr>\n",
       "      <th rowspan=\"3\" valign=\"top\">headlamp</th>\n",
       "      <th>DELIVERED</th>\n",
       "      <td>1.0</td>\n",
       "      <td>250.0</td>\n",
       "    </tr>\n",
       "    <tr>\n",
       "      <th>OPEN</th>\n",
       "      <td>0.0</td>\n",
       "      <td>0.0</td>\n",
       "    </tr>\n",
       "    <tr>\n",
       "      <th>PAID</th>\n",
       "      <td>0.0</td>\n",
       "      <td>0.0</td>\n",
       "    </tr>\n",
       "    <tr>\n",
       "      <th rowspan=\"3\" valign=\"top\">hiking boots</th>\n",
       "      <th>DELIVERED</th>\n",
       "      <td>1.0</td>\n",
       "      <td>1000.0</td>\n",
       "    </tr>\n",
       "    <tr>\n",
       "      <th>OPEN</th>\n",
       "      <td>0.0</td>\n",
       "      <td>0.0</td>\n",
       "    </tr>\n",
       "    <tr>\n",
       "      <th>PAID</th>\n",
       "      <td>0.0</td>\n",
       "      <td>0.0</td>\n",
       "    </tr>\n",
       "    <tr>\n",
       "      <th rowspan=\"3\" valign=\"top\">saw dust</th>\n",
       "      <th>DELIVERED</th>\n",
       "      <td>0.0</td>\n",
       "      <td>0.0</td>\n",
       "    </tr>\n",
       "    <tr>\n",
       "      <th>OPEN</th>\n",
       "      <td>1.0</td>\n",
       "      <td>20.0</td>\n",
       "    </tr>\n",
       "    <tr>\n",
       "      <th>PAID</th>\n",
       "      <td>1.0</td>\n",
       "      <td>20.0</td>\n",
       "    </tr>\n",
       "    <tr>\n",
       "      <th rowspan=\"3\" valign=\"top\">soap</th>\n",
       "      <th>DELIVERED</th>\n",
       "      <td>3.0</td>\n",
       "      <td>15.0</td>\n",
       "    </tr>\n",
       "    <tr>\n",
       "      <th>OPEN</th>\n",
       "      <td>0.0</td>\n",
       "      <td>0.0</td>\n",
       "    </tr>\n",
       "    <tr>\n",
       "      <th>PAID</th>\n",
       "      <td>0.0</td>\n",
       "      <td>0.0</td>\n",
       "    </tr>\n",
       "    <tr>\n",
       "      <th rowspan=\"3\" valign=\"top\">tent</th>\n",
       "      <th>DELIVERED</th>\n",
       "      <td>2.0</td>\n",
       "      <td>3998.0</td>\n",
       "    </tr>\n",
       "    <tr>\n",
       "      <th>OPEN</th>\n",
       "      <td>0.0</td>\n",
       "      <td>0.0</td>\n",
       "    </tr>\n",
       "    <tr>\n",
       "      <th>PAID</th>\n",
       "      <td>0.0</td>\n",
       "      <td>0.0</td>\n",
       "    </tr>\n",
       "    <tr>\n",
       "      <th rowspan=\"3\" valign=\"top\">tooth brush</th>\n",
       "      <th>DELIVERED</th>\n",
       "      <td>1.0</td>\n",
       "      <td>50.0</td>\n",
       "    </tr>\n",
       "    <tr>\n",
       "      <th>OPEN</th>\n",
       "      <td>0.0</td>\n",
       "      <td>0.0</td>\n",
       "    </tr>\n",
       "    <tr>\n",
       "      <th>PAID</th>\n",
       "      <td>0.0</td>\n",
       "      <td>0.0</td>\n",
       "    </tr>\n",
       "  </tbody>\n",
       "</table>\n",
       "</div>"
      ],
      "text/plain": [
       "                                                     quantity   price\n",
       "name                                      status                     \n",
       "128 GB SSD Hard drive                     DELIVERED       0.0     0.0\n",
       "                                          OPEN            2.0   600.0\n",
       "                                          PAID            2.0   600.0\n",
       "bag of nails                              DELIVERED       0.0     0.0\n",
       "                                          OPEN            1.0    50.0\n",
       "                                          PAID            0.0     0.0\n",
       "balloons                                  DELIVERED       2.0    50.0\n",
       "                                          OPEN            0.0     0.0\n",
       "                                          PAID            1.0    25.0\n",
       "big friggin cake                          DELIVERED       3.0   300.0\n",
       "                                          OPEN            0.0     0.0\n",
       "                                          PAID            1.0   150.0\n",
       "book: how to care for your hamster        DELIVERED       1.0   150.0\n",
       "                                          OPEN            1.0   150.0\n",
       "                                          PAID            0.0     0.0\n",
       "book: how to succeed at being a hard arse DELIVERED       0.0     0.0\n",
       "                                          OPEN            0.0     0.0\n",
       "                                          PAID            1.0   160.0\n",
       "candles                                   DELIVERED       0.0     0.0\n",
       "                                          OPEN            0.0     0.0\n",
       "                                          PAID            1.0    30.0\n",
       "hammer                                    DELIVERED       0.0     0.0\n",
       "                                          OPEN            1.0   200.0\n",
       "                                          PAID            0.0     0.0\n",
       "hamster                                   DELIVERED       0.0     0.0\n",
       "                                          OPEN            2.0    20.0\n",
       "                                          PAID            1.0    20.0\n",
       "hamster-cage                              DELIVERED       0.0     0.0\n",
       "                                          OPEN            1.0   150.0\n",
       "                                          PAID            1.0   150.0\n",
       "headlamp                                  DELIVERED       1.0   250.0\n",
       "                                          OPEN            0.0     0.0\n",
       "                                          PAID            0.0     0.0\n",
       "hiking boots                              DELIVERED       1.0  1000.0\n",
       "                                          OPEN            0.0     0.0\n",
       "                                          PAID            0.0     0.0\n",
       "saw dust                                  DELIVERED       0.0     0.0\n",
       "                                          OPEN            1.0    20.0\n",
       "                                          PAID            1.0    20.0\n",
       "soap                                      DELIVERED       3.0    15.0\n",
       "                                          OPEN            0.0     0.0\n",
       "                                          PAID            0.0     0.0\n",
       "tent                                      DELIVERED       2.0  3998.0\n",
       "                                          OPEN            0.0     0.0\n",
       "                                          PAID            0.0     0.0\n",
       "tooth brush                               DELIVERED       1.0    50.0\n",
       "                                          OPEN            0.0     0.0\n",
       "                                          PAID            0.0     0.0"
      ]
     },
     "execution_count": 8,
     "metadata": {},
     "output_type": "execute_result"
    }
   ],
   "source": [
    "df_items = result.groupby(['name','status']).agg({'quantity': 'sum', 'price': 'sum'})\n",
    "df_items"
   ]
  },
  {
   "cell_type": "code",
   "execution_count": 9,
   "metadata": {},
   "outputs": [
    {
     "data": {
      "application/vnd.plotly.v1+json": {
       "config": {
        "plotlyServerURL": "https://plot.ly"
       },
       "data": [
        {
         "alignmentgroup": "True",
         "customdata": [
          [
           "tshepo@umuzi.org",
           2
          ],
          [
           "tshepo@umuzi.org",
           1
          ],
          [
           "tshepo@umuzi.org",
           1
          ],
          [
           "tshepo@umuzi.org",
           1
          ],
          [
           "mpho@umuzi.org",
           1
          ],
          [
           "mpho@umuzi.org",
           1
          ],
          [
           "mpho@umuzi.org",
           2
          ]
         ],
         "hovertemplate": "status=OPEN<br>name=%{x}<br>price=%{y}<br>email=%{customdata[0]}<br>quantity=%{customdata[1]}<extra></extra>",
         "legendgroup": "OPEN",
         "marker": {
          "color": "#636efa",
          "pattern": {
           "shape": ""
          }
         },
         "name": "OPEN",
         "offsetgroup": "OPEN",
         "orientation": "v",
         "showlegend": true,
         "textposition": "auto",
         "type": "bar",
         "x": [
          "hamster",
          "saw dust",
          "hamster-cage",
          "book: how to care for your hamster",
          "hammer",
          "bag of nails",
          "128 GB SSD Hard drive"
         ],
         "xaxis": "x",
         "y": [
          20,
          20,
          150,
          150,
          200,
          50,
          600
         ],
         "yaxis": "y"
        },
        {
         "alignmentgroup": "True",
         "customdata": [
          [
           "tshepo@umuzi.org",
           1
          ],
          [
           "tshepo@umuzi.org",
           1
          ],
          [
           "tshepo@umuzi.org",
           1
          ],
          [
           "sally@umuzi.org",
           1
          ],
          [
           "sally@umuzi.org",
           1
          ],
          [
           "sally@umuzi.org",
           1
          ],
          [
           "ryan@umuzi.org",
           2
          ],
          [
           "ryan@umuzi.org",
           1
          ]
         ],
         "hovertemplate": "status=PAID<br>name=%{x}<br>price=%{y}<br>email=%{customdata[0]}<br>quantity=%{customdata[1]}<extra></extra>",
         "legendgroup": "PAID",
         "marker": {
          "color": "#EF553B",
          "pattern": {
           "shape": ""
          }
         },
         "name": "PAID",
         "offsetgroup": "PAID",
         "orientation": "v",
         "showlegend": true,
         "textposition": "auto",
         "type": "bar",
         "x": [
          "balloons",
          "big friggin cake",
          "candles",
          "hamster",
          "saw dust",
          "hamster-cage",
          "128 GB SSD Hard drive",
          "book: how to succeed at being a hard arse"
         ],
         "xaxis": "x",
         "y": [
          25,
          150,
          30,
          20,
          20,
          150,
          600,
          160
         ],
         "yaxis": "y"
        },
        {
         "alignmentgroup": "True",
         "customdata": [
          [
           "tshepo@umuzi.org",
           1
          ],
          [
           "tshepo@umuzi.org",
           3
          ],
          [
           "tshepo@umuzi.org",
           1
          ],
          [
           "sally@umuzi.org",
           1
          ],
          [
           "sally@umuzi.org",
           1
          ],
          [
           "sally@umuzi.org",
           1
          ],
          [
           "sally@umuzi.org",
           1
          ],
          [
           "mo@umuzi.org",
           1
          ],
          [
           "mo@umuzi.org",
           2
          ],
          [
           "mo@umuzi.org",
           1
          ],
          [
           "mo@umuzi.org",
           1
          ]
         ],
         "hovertemplate": "status=DELIVERED<br>name=%{x}<br>price=%{y}<br>email=%{customdata[0]}<br>quantity=%{customdata[1]}<extra></extra>",
         "legendgroup": "DELIVERED",
         "marker": {
          "color": "#00cc96",
          "pattern": {
           "shape": ""
          }
         },
         "name": "DELIVERED",
         "offsetgroup": "DELIVERED",
         "orientation": "v",
         "showlegend": true,
         "textposition": "auto",
         "type": "bar",
         "x": [
          "tooth brush",
          "soap",
          "tent",
          "tent",
          "headlamp",
          "hiking boots",
          "book: how to care for your hamster",
          "balloons",
          "big friggin cake",
          "balloons",
          "big friggin cake"
         ],
         "xaxis": "x",
         "y": [
          50,
          15,
          1999,
          1999,
          250,
          1000,
          150,
          25,
          150,
          25,
          150
         ],
         "yaxis": "y"
        }
       ],
       "layout": {
        "barmode": "group",
        "legend": {
         "title": {
          "text": "Status"
         },
         "tracegroupgap": 0
        },
        "margin": {
         "t": 60
        },
        "template": {
         "data": {
          "bar": [
           {
            "error_x": {
             "color": "#2a3f5f"
            },
            "error_y": {
             "color": "#2a3f5f"
            },
            "marker": {
             "line": {
              "color": "#E5ECF6",
              "width": 0.5
             },
             "pattern": {
              "fillmode": "overlay",
              "size": 10,
              "solidity": 0.2
             }
            },
            "type": "bar"
           }
          ],
          "barpolar": [
           {
            "marker": {
             "line": {
              "color": "#E5ECF6",
              "width": 0.5
             },
             "pattern": {
              "fillmode": "overlay",
              "size": 10,
              "solidity": 0.2
             }
            },
            "type": "barpolar"
           }
          ],
          "carpet": [
           {
            "aaxis": {
             "endlinecolor": "#2a3f5f",
             "gridcolor": "white",
             "linecolor": "white",
             "minorgridcolor": "white",
             "startlinecolor": "#2a3f5f"
            },
            "baxis": {
             "endlinecolor": "#2a3f5f",
             "gridcolor": "white",
             "linecolor": "white",
             "minorgridcolor": "white",
             "startlinecolor": "#2a3f5f"
            },
            "type": "carpet"
           }
          ],
          "choropleth": [
           {
            "colorbar": {
             "outlinewidth": 0,
             "ticks": ""
            },
            "type": "choropleth"
           }
          ],
          "contour": [
           {
            "colorbar": {
             "outlinewidth": 0,
             "ticks": ""
            },
            "colorscale": [
             [
              0,
              "#0d0887"
             ],
             [
              0.1111111111111111,
              "#46039f"
             ],
             [
              0.2222222222222222,
              "#7201a8"
             ],
             [
              0.3333333333333333,
              "#9c179e"
             ],
             [
              0.4444444444444444,
              "#bd3786"
             ],
             [
              0.5555555555555556,
              "#d8576b"
             ],
             [
              0.6666666666666666,
              "#ed7953"
             ],
             [
              0.7777777777777778,
              "#fb9f3a"
             ],
             [
              0.8888888888888888,
              "#fdca26"
             ],
             [
              1,
              "#f0f921"
             ]
            ],
            "type": "contour"
           }
          ],
          "contourcarpet": [
           {
            "colorbar": {
             "outlinewidth": 0,
             "ticks": ""
            },
            "type": "contourcarpet"
           }
          ],
          "heatmap": [
           {
            "colorbar": {
             "outlinewidth": 0,
             "ticks": ""
            },
            "colorscale": [
             [
              0,
              "#0d0887"
             ],
             [
              0.1111111111111111,
              "#46039f"
             ],
             [
              0.2222222222222222,
              "#7201a8"
             ],
             [
              0.3333333333333333,
              "#9c179e"
             ],
             [
              0.4444444444444444,
              "#bd3786"
             ],
             [
              0.5555555555555556,
              "#d8576b"
             ],
             [
              0.6666666666666666,
              "#ed7953"
             ],
             [
              0.7777777777777778,
              "#fb9f3a"
             ],
             [
              0.8888888888888888,
              "#fdca26"
             ],
             [
              1,
              "#f0f921"
             ]
            ],
            "type": "heatmap"
           }
          ],
          "heatmapgl": [
           {
            "colorbar": {
             "outlinewidth": 0,
             "ticks": ""
            },
            "colorscale": [
             [
              0,
              "#0d0887"
             ],
             [
              0.1111111111111111,
              "#46039f"
             ],
             [
              0.2222222222222222,
              "#7201a8"
             ],
             [
              0.3333333333333333,
              "#9c179e"
             ],
             [
              0.4444444444444444,
              "#bd3786"
             ],
             [
              0.5555555555555556,
              "#d8576b"
             ],
             [
              0.6666666666666666,
              "#ed7953"
             ],
             [
              0.7777777777777778,
              "#fb9f3a"
             ],
             [
              0.8888888888888888,
              "#fdca26"
             ],
             [
              1,
              "#f0f921"
             ]
            ],
            "type": "heatmapgl"
           }
          ],
          "histogram": [
           {
            "marker": {
             "pattern": {
              "fillmode": "overlay",
              "size": 10,
              "solidity": 0.2
             }
            },
            "type": "histogram"
           }
          ],
          "histogram2d": [
           {
            "colorbar": {
             "outlinewidth": 0,
             "ticks": ""
            },
            "colorscale": [
             [
              0,
              "#0d0887"
             ],
             [
              0.1111111111111111,
              "#46039f"
             ],
             [
              0.2222222222222222,
              "#7201a8"
             ],
             [
              0.3333333333333333,
              "#9c179e"
             ],
             [
              0.4444444444444444,
              "#bd3786"
             ],
             [
              0.5555555555555556,
              "#d8576b"
             ],
             [
              0.6666666666666666,
              "#ed7953"
             ],
             [
              0.7777777777777778,
              "#fb9f3a"
             ],
             [
              0.8888888888888888,
              "#fdca26"
             ],
             [
              1,
              "#f0f921"
             ]
            ],
            "type": "histogram2d"
           }
          ],
          "histogram2dcontour": [
           {
            "colorbar": {
             "outlinewidth": 0,
             "ticks": ""
            },
            "colorscale": [
             [
              0,
              "#0d0887"
             ],
             [
              0.1111111111111111,
              "#46039f"
             ],
             [
              0.2222222222222222,
              "#7201a8"
             ],
             [
              0.3333333333333333,
              "#9c179e"
             ],
             [
              0.4444444444444444,
              "#bd3786"
             ],
             [
              0.5555555555555556,
              "#d8576b"
             ],
             [
              0.6666666666666666,
              "#ed7953"
             ],
             [
              0.7777777777777778,
              "#fb9f3a"
             ],
             [
              0.8888888888888888,
              "#fdca26"
             ],
             [
              1,
              "#f0f921"
             ]
            ],
            "type": "histogram2dcontour"
           }
          ],
          "mesh3d": [
           {
            "colorbar": {
             "outlinewidth": 0,
             "ticks": ""
            },
            "type": "mesh3d"
           }
          ],
          "parcoords": [
           {
            "line": {
             "colorbar": {
              "outlinewidth": 0,
              "ticks": ""
             }
            },
            "type": "parcoords"
           }
          ],
          "pie": [
           {
            "automargin": true,
            "type": "pie"
           }
          ],
          "scatter": [
           {
            "fillpattern": {
             "fillmode": "overlay",
             "size": 10,
             "solidity": 0.2
            },
            "type": "scatter"
           }
          ],
          "scatter3d": [
           {
            "line": {
             "colorbar": {
              "outlinewidth": 0,
              "ticks": ""
             }
            },
            "marker": {
             "colorbar": {
              "outlinewidth": 0,
              "ticks": ""
             }
            },
            "type": "scatter3d"
           }
          ],
          "scattercarpet": [
           {
            "marker": {
             "colorbar": {
              "outlinewidth": 0,
              "ticks": ""
             }
            },
            "type": "scattercarpet"
           }
          ],
          "scattergeo": [
           {
            "marker": {
             "colorbar": {
              "outlinewidth": 0,
              "ticks": ""
             }
            },
            "type": "scattergeo"
           }
          ],
          "scattergl": [
           {
            "marker": {
             "colorbar": {
              "outlinewidth": 0,
              "ticks": ""
             }
            },
            "type": "scattergl"
           }
          ],
          "scattermapbox": [
           {
            "marker": {
             "colorbar": {
              "outlinewidth": 0,
              "ticks": ""
             }
            },
            "type": "scattermapbox"
           }
          ],
          "scatterpolar": [
           {
            "marker": {
             "colorbar": {
              "outlinewidth": 0,
              "ticks": ""
             }
            },
            "type": "scatterpolar"
           }
          ],
          "scatterpolargl": [
           {
            "marker": {
             "colorbar": {
              "outlinewidth": 0,
              "ticks": ""
             }
            },
            "type": "scatterpolargl"
           }
          ],
          "scatterternary": [
           {
            "marker": {
             "colorbar": {
              "outlinewidth": 0,
              "ticks": ""
             }
            },
            "type": "scatterternary"
           }
          ],
          "surface": [
           {
            "colorbar": {
             "outlinewidth": 0,
             "ticks": ""
            },
            "colorscale": [
             [
              0,
              "#0d0887"
             ],
             [
              0.1111111111111111,
              "#46039f"
             ],
             [
              0.2222222222222222,
              "#7201a8"
             ],
             [
              0.3333333333333333,
              "#9c179e"
             ],
             [
              0.4444444444444444,
              "#bd3786"
             ],
             [
              0.5555555555555556,
              "#d8576b"
             ],
             [
              0.6666666666666666,
              "#ed7953"
             ],
             [
              0.7777777777777778,
              "#fb9f3a"
             ],
             [
              0.8888888888888888,
              "#fdca26"
             ],
             [
              1,
              "#f0f921"
             ]
            ],
            "type": "surface"
           }
          ],
          "table": [
           {
            "cells": {
             "fill": {
              "color": "#EBF0F8"
             },
             "line": {
              "color": "white"
             }
            },
            "header": {
             "fill": {
              "color": "#C8D4E3"
             },
             "line": {
              "color": "white"
             }
            },
            "type": "table"
           }
          ]
         },
         "layout": {
          "annotationdefaults": {
           "arrowcolor": "#2a3f5f",
           "arrowhead": 0,
           "arrowwidth": 1
          },
          "autotypenumbers": "strict",
          "coloraxis": {
           "colorbar": {
            "outlinewidth": 0,
            "ticks": ""
           }
          },
          "colorscale": {
           "diverging": [
            [
             0,
             "#8e0152"
            ],
            [
             0.1,
             "#c51b7d"
            ],
            [
             0.2,
             "#de77ae"
            ],
            [
             0.3,
             "#f1b6da"
            ],
            [
             0.4,
             "#fde0ef"
            ],
            [
             0.5,
             "#f7f7f7"
            ],
            [
             0.6,
             "#e6f5d0"
            ],
            [
             0.7,
             "#b8e186"
            ],
            [
             0.8,
             "#7fbc41"
            ],
            [
             0.9,
             "#4d9221"
            ],
            [
             1,
             "#276419"
            ]
           ],
           "sequential": [
            [
             0,
             "#0d0887"
            ],
            [
             0.1111111111111111,
             "#46039f"
            ],
            [
             0.2222222222222222,
             "#7201a8"
            ],
            [
             0.3333333333333333,
             "#9c179e"
            ],
            [
             0.4444444444444444,
             "#bd3786"
            ],
            [
             0.5555555555555556,
             "#d8576b"
            ],
            [
             0.6666666666666666,
             "#ed7953"
            ],
            [
             0.7777777777777778,
             "#fb9f3a"
            ],
            [
             0.8888888888888888,
             "#fdca26"
            ],
            [
             1,
             "#f0f921"
            ]
           ],
           "sequentialminus": [
            [
             0,
             "#0d0887"
            ],
            [
             0.1111111111111111,
             "#46039f"
            ],
            [
             0.2222222222222222,
             "#7201a8"
            ],
            [
             0.3333333333333333,
             "#9c179e"
            ],
            [
             0.4444444444444444,
             "#bd3786"
            ],
            [
             0.5555555555555556,
             "#d8576b"
            ],
            [
             0.6666666666666666,
             "#ed7953"
            ],
            [
             0.7777777777777778,
             "#fb9f3a"
            ],
            [
             0.8888888888888888,
             "#fdca26"
            ],
            [
             1,
             "#f0f921"
            ]
           ]
          },
          "colorway": [
           "#636efa",
           "#EF553B",
           "#00cc96",
           "#ab63fa",
           "#FFA15A",
           "#19d3f3",
           "#FF6692",
           "#B6E880",
           "#FF97FF",
           "#FECB52"
          ],
          "font": {
           "color": "#2a3f5f"
          },
          "geo": {
           "bgcolor": "white",
           "lakecolor": "white",
           "landcolor": "#E5ECF6",
           "showlakes": true,
           "showland": true,
           "subunitcolor": "white"
          },
          "hoverlabel": {
           "align": "left"
          },
          "hovermode": "closest",
          "mapbox": {
           "style": "light"
          },
          "paper_bgcolor": "white",
          "plot_bgcolor": "#E5ECF6",
          "polar": {
           "angularaxis": {
            "gridcolor": "white",
            "linecolor": "white",
            "ticks": ""
           },
           "bgcolor": "#E5ECF6",
           "radialaxis": {
            "gridcolor": "white",
            "linecolor": "white",
            "ticks": ""
           }
          },
          "scene": {
           "xaxis": {
            "backgroundcolor": "#E5ECF6",
            "gridcolor": "white",
            "gridwidth": 2,
            "linecolor": "white",
            "showbackground": true,
            "ticks": "",
            "zerolinecolor": "white"
           },
           "yaxis": {
            "backgroundcolor": "#E5ECF6",
            "gridcolor": "white",
            "gridwidth": 2,
            "linecolor": "white",
            "showbackground": true,
            "ticks": "",
            "zerolinecolor": "white"
           },
           "zaxis": {
            "backgroundcolor": "#E5ECF6",
            "gridcolor": "white",
            "gridwidth": 2,
            "linecolor": "white",
            "showbackground": true,
            "ticks": "",
            "zerolinecolor": "white"
           }
          },
          "shapedefaults": {
           "line": {
            "color": "#2a3f5f"
           }
          },
          "ternary": {
           "aaxis": {
            "gridcolor": "white",
            "linecolor": "white",
            "ticks": ""
           },
           "baxis": {
            "gridcolor": "white",
            "linecolor": "white",
            "ticks": ""
           },
           "bgcolor": "#E5ECF6",
           "caxis": {
            "gridcolor": "white",
            "linecolor": "white",
            "ticks": ""
           }
          },
          "title": {
           "x": 0.05
          },
          "xaxis": {
           "automargin": true,
           "gridcolor": "white",
           "linecolor": "white",
           "ticks": "",
           "title": {
            "standoff": 15
           },
           "zerolinecolor": "white",
           "zerolinewidth": 2
          },
          "yaxis": {
           "automargin": true,
           "gridcolor": "white",
           "linecolor": "white",
           "ticks": "",
           "title": {
            "standoff": 15
           },
           "zerolinecolor": "white",
           "zerolinewidth": 2
          }
         }
        },
        "title": {
         "text": "<b>Item Purchase Summary by price and Status<b>",
         "x": 0.5
        },
        "xaxis": {
         "anchor": "y",
         "domain": [
          0,
          1
         ],
         "title": {
          "text": "Item"
         }
        },
        "yaxis": {
         "anchor": "x",
         "domain": [
          0,
          1
         ],
         "title": {
          "text": "Price R"
         }
        }
       }
      }
     },
     "metadata": {},
     "output_type": "display_data"
    }
   ],
   "source": [
    "import plotly.express as px\n",
    "\n",
    "fig = px.bar(result, x='name', y='price', color='status', barmode='group',\n",
    "             hover_data=['email', 'quantity'])\n",
    "\n",
    "fig.update_layout(\n",
    "    title='<b>Item Purchase Summary by price and Status<b>',\n",
    "    title_x=0.5,  \n",
    "    xaxis_title='Item',\n",
    "    yaxis_title='Price R',\n",
    "    legend_title='Status'\n",
    ")\n",
    "\n",
    "fig.show()"
   ]
  },
  {
   "cell_type": "markdown",
   "metadata": {},
   "source": [
    "# **2. Transactions Calculations**"
   ]
  },
  {
   "cell_type": "markdown",
   "metadata": {},
   "source": [
    "### 2.1 Get customers baskets"
   ]
  },
  {
   "cell_type": "code",
   "execution_count": 10,
   "metadata": {},
   "outputs": [
    {
     "name": "stdout",
     "output_type": "stream",
     "text": [
      "╒════╤══════════════════╤═══════════╤═════════════════════════════════════════════════════════════════════════════════════════════════════════════════════════════════════════════════════════════════════════════════════════════════════════════════════════════════════════╕\n",
      "│    │ email            │ status    │ items                                                                                                                                                                                                                                   │\n",
      "╞════╪══════════════════╪═══════════╪═════════════════════════════════════════════════════════════════════════════════════════════════════════════════════════════════════════════════════════════════════════════════════════════════════════════════════════════════════════╡\n",
      "│  0 │ tshepo@umuzi.org │ OPEN      │ [{'name': 'hamster', 'quantity': 2, 'price': 20}, {'name': 'saw dust', 'quantity': 1, 'price': 20}, {'name': 'hamster-cage', 'quantity': 1, 'price': 150}, {'name': 'book: how to care for your hamster', 'quantity': 1, 'price': 150}] │\n",
      "├────┼──────────────────┼───────────┼─────────────────────────────────────────────────────────────────────────────────────────────────────────────────────────────────────────────────────────────────────────────────────────────────────────────────────────────────────────┤\n",
      "│  1 │ tshepo@umuzi.org │ PAID      │ [{'name': 'balloons', 'quantity': 1, 'price': 25}, {'name': 'big friggin cake', 'quantity': 1, 'price': 150}, {'name': 'candles', 'quantity': 1, 'price': 30}]                                                                          │\n",
      "├────┼──────────────────┼───────────┼─────────────────────────────────────────────────────────────────────────────────────────────────────────────────────────────────────────────────────────────────────────────────────────────────────────────────────────────────────────┤\n",
      "│  2 │ tshepo@umuzi.org │ DELIVERED │ [{'name': 'tooth brush', 'quantity': 1, 'price': 50}, {'name': 'soap', 'quantity': 3, 'price': 15}]                                                                                                                                     │\n",
      "├────┼──────────────────┼───────────┼─────────────────────────────────────────────────────────────────────────────────────────────────────────────────────────────────────────────────────────────────────────────────────────────────────────────────────────────────────────┤\n",
      "│  3 │ tshepo@umuzi.org │ DELIVERED │ [{'name': 'tent', 'quantity': 1, 'price': 1999}]                                                                                                                                                                                        │\n",
      "╘════╧══════════════════╧═══════════╧═════════════════════════════════════════════════════════════════════════════════════════════════════════════════════════════════════════════════════════════════════════════════════════════════════════════════════════════════════════╛\n",
      "╒════╤═════════════════╤═══════════╤═════════════════════════════════════════════════════════════════════════════════════════════════════════════════════════════════════════════════════════════╕\n",
      "│    │ email           │ status    │ items                                                                                                                                                       │\n",
      "╞════╪═════════════════╪═══════════╪═════════════════════════════════════════════════════════════════════════════════════════════════════════════════════════════════════════════════════════════╡\n",
      "│  4 │ sally@umuzi.org │ DELIVERED │ [{'name': 'tent', 'quantity': 1, 'price': 1999}, {'name': 'headlamp', 'quantity': 1, 'price': 250}, {'name': 'hiking boots', 'quantity': 1, 'price': 1000}] │\n",
      "├────┼─────────────────┼───────────┼─────────────────────────────────────────────────────────────────────────────────────────────────────────────────────────────────────────────────────────────┤\n",
      "│  5 │ sally@umuzi.org │ PAID      │ [{'name': 'hamster', 'quantity': 1, 'price': 20}, {'name': 'saw dust', 'quantity': 1, 'price': 20}, {'name': 'hamster-cage', 'quantity': 1, 'price': 150}]  │\n",
      "├────┼─────────────────┼───────────┼─────────────────────────────────────────────────────────────────────────────────────────────────────────────────────────────────────────────────────────────┤\n",
      "│  6 │ sally@umuzi.org │ DELIVERED │ [{'name': 'book: how to care for your hamster', 'quantity': 1, 'price': 150}]                                                                               │\n",
      "╘════╧═════════════════╧═══════════╧═════════════════════════════════════════════════════════════════════════════════════════════════════════════════════════════════════════════════════════════╛\n",
      "╒════╤════════════════╤══════════╤═════════════════════════════════════════════════════════════════════════════════════════════════════════════════════════════════════════════════════════════════════════╕\n",
      "│    │ email          │ status   │ items                                                                                                                                                                   │\n",
      "╞════╪════════════════╪══════════╪═════════════════════════════════════════════════════════════════════════════════════════════════════════════════════════════════════════════════════════════════════════╡\n",
      "│  7 │ mpho@umuzi.org │ OPEN     │ [{'name': 'hammer', 'quantity': 1, 'price': 200}, {'name': 'bag of nails', 'quantity': 1, 'price': 50}, {'name': '128 GB SSD Hard drive', 'quantity': 2, 'price': 600}] │\n",
      "╘════╧════════════════╧══════════╧═════════════════════════════════════════════════════════════════════════════════════════════════════════════════════════════════════════════════════════════════════════╛\n",
      "╒════╤════════════════╤══════════╤══════════════════════════════════════════════════════════════════════════════════════════════════════════════════════════════════════════════════════╕\n",
      "│    │ email          │ status   │ items                                                                                                                                                │\n",
      "╞════╪════════════════╪══════════╪══════════════════════════════════════════════════════════════════════════════════════════════════════════════════════════════════════════════════════╡\n",
      "│  8 │ ryan@umuzi.org │ PAID     │ [{'name': '128 GB SSD Hard drive', 'quantity': 2, 'price': 600}, {'name': 'book: how to succeed at being a hard arse', 'quantity': 1, 'price': 160}] │\n",
      "╘════╧════════════════╧══════════╧══════════════════════════════════════════════════════════════════════════════════════════════════════════════════════════════════════════════════════╛\n",
      "╒════╤══════════════╤═══════════╤═══════════════════════════════════════════════════════════════════════════════════════════════════════════════╕\n",
      "│    │ email        │ status    │ items                                                                                                         │\n",
      "╞════╪══════════════╪═══════════╪═══════════════════════════════════════════════════════════════════════════════════════════════════════════════╡\n",
      "│  9 │ mo@umuzi.org │ DELIVERED │ [{'name': 'balloons', 'quantity': 1, 'price': 25}, {'name': 'big friggin cake', 'quantity': 2, 'price': 150}] │\n",
      "├────┼──────────────┼───────────┼───────────────────────────────────────────────────────────────────────────────────────────────────────────────┤\n",
      "│ 10 │ mo@umuzi.org │ DELIVERED │ []                                                                                                            │\n",
      "├────┼──────────────┼───────────┼───────────────────────────────────────────────────────────────────────────────────────────────────────────────┤\n",
      "│ 11 │ mo@umuzi.org │ DELIVERED │ [{'name': 'balloons', 'quantity': 1, 'price': 25}, {'name': 'big friggin cake', 'quantity': 1, 'price': 150}] │\n",
      "╘════╧══════════════╧═══════════╧═══════════════════════════════════════════════════════════════════════════════════════════════════════════════╛\n"
     ]
    }
   ],
   "source": [
    "def get_customer_baskets(email, shopping_baskets):\n",
    "    return shopping_baskets[shopping_baskets[\"email\"] == email] if email in shopping_baskets[\"email\"].unique() else []\n",
    "\n",
    "for email in data.email.unique():\n",
    "    customer_baskets = get_customer_baskets(email, data)\n",
    "    print(tabulate(customer_baskets, headers='keys', tablefmt='fancy_grid'))\n"
   ]
  },
  {
   "cell_type": "markdown",
   "metadata": {},
   "source": [
    "### 2.2 Get required stock\n",
    "**NB:** Item is replaced as soon as the transaction is approved."
   ]
  },
  {
   "cell_type": "code",
   "execution_count": 11,
   "metadata": {},
   "outputs": [
    {
     "name": "stdout",
     "output_type": "stream",
     "text": [
      "╒═══════════════════════════════════════════╤════════════╕\n",
      "│ name                                      │   quantity │\n",
      "╞═══════════════════════════════════════════╪════════════╡\n",
      "│ balloons                                  │          1 │\n",
      "├───────────────────────────────────────────┼────────────┤\n",
      "│ big friggin cake                          │          1 │\n",
      "├───────────────────────────────────────────┼────────────┤\n",
      "│ candles                                   │          1 │\n",
      "├───────────────────────────────────────────┼────────────┤\n",
      "│ hamster                                   │          1 │\n",
      "├───────────────────────────────────────────┼────────────┤\n",
      "│ saw dust                                  │          1 │\n",
      "├───────────────────────────────────────────┼────────────┤\n",
      "│ hamster-cage                              │          1 │\n",
      "├───────────────────────────────────────────┼────────────┤\n",
      "│ 128 GB SSD Hard drive                     │          2 │\n",
      "├───────────────────────────────────────────┼────────────┤\n",
      "│ book: how to succeed at being a hard arse │          1 │\n",
      "╘═══════════════════════════════════════════╧════════════╛\n"
     ]
    }
   ],
   "source": [
    "def get_required_stock(customer_data):\n",
    "    paid_orders = customer_data[customer_data[\"status\"] == \"PAID\"]\n",
    "    item_quantities = {}\n",
    "\n",
    "    for order_items in paid_orders[\"items\"]:\n",
    "        for item in order_items:\n",
    "            item_name = item[\"name\"]\n",
    "            item_quantity = item[\"quantity\"]\n",
    "            if item_name in item_quantities:\n",
    "                item_quantities[item_name] += item_quantity\n",
    "            else:\n",
    "                item_quantities[item_name] = item_quantity\n",
    "\n",
    "    required_stock = [\n",
    "        {\"name\": item_name, \"quantity\": quantity}\n",
    "        for item_name, quantity in item_quantities.items()\n",
    "    ]\n",
    "\n",
    "    return required_stock\n",
    "\n",
    "stock = get_required_stock(data)\n",
    "print(tabulate(stock, headers='keys', tablefmt='fancy_grid'))"
   ]
  },
  {
   "cell_type": "markdown",
   "metadata": {},
   "source": [
    "### 2.3 Total amount spent By a customer\n"
   ]
  },
  {
   "cell_type": "code",
   "execution_count": 12,
   "metadata": {},
   "outputs": [
    {
     "name": "stdout",
     "output_type": "stream",
     "text": [
      "Customer: tshepo@umuzi.org=====Total Spent: R 2299.0\n",
      "Customer: sally@umuzi.org=====Total Spent: R 3589.0\n",
      "Customer: mpho@umuzi.org=====Total Spent: R 0.0\n",
      "Customer: ryan@umuzi.org=====Total Spent: R 1360.0\n",
      "Customer: mo@umuzi.org=====Total Spent: R 500.0\n"
     ]
    }
   ],
   "source": [
    "\n",
    "def get_total_spent(email, customer_data):\n",
    "    global DELIVERED\n",
    "    customer_baskets = get_customer_baskets(email, customer_data)\n",
    "    \n",
    "    if len(customer_baskets) > 0:\n",
    "        total_spent = 0\n",
    "\n",
    "        for index, basket in customer_baskets.iterrows():\n",
    "            if basket[\"status\"] == \"PAID\" or basket[\"status\"] == \"DELIVERED\":\n",
    "                if basket[\"items\"]:\n",
    "                    for item in basket[\"items\"]:\n",
    "                        total_spent += item[\"quantity\"] * item[\"price\"]\n",
    "                        \n",
    "        return total_spent\n",
    "    else:\n",
    "        return 0\n",
    "    \n",
    "for email in data.email.unique():\n",
    "    total_spent = get_total_spent(email, data)\n",
    "    print(f\"Customer: {email}{'='*5}Total Spent: R {float(total_spent)}\")"
   ]
  },
  {
   "cell_type": "markdown",
   "metadata": {},
   "source": [
    "### 2.4 Top Customers"
   ]
  },
  {
   "cell_type": "code",
   "execution_count": 13,
   "metadata": {},
   "outputs": [
    {
     "name": "stdout",
     "output_type": "stream",
     "text": [
      "╒══════════════════╤═════════════╕\n",
      "│ email            │   total (R) │\n",
      "╞══════════════════╪═════════════╡\n",
      "│ sally@umuzi.org  │        3589 │\n",
      "├──────────────────┼─────────────┤\n",
      "│ tshepo@umuzi.org │        2299 │\n",
      "├──────────────────┼─────────────┤\n",
      "│ ryan@umuzi.org   │        1360 │\n",
      "├──────────────────┼─────────────┤\n",
      "│ mo@umuzi.org     │         500 │\n",
      "╘══════════════════╧═════════════╛\n"
     ]
    }
   ],
   "source": [
    "def get_all_customers(customer_data):\n",
    "    customer_data = customer_data[\"email\"].sort_values().unique()\n",
    "    return customer_data\n",
    "\n",
    "\n",
    "def get_top_customers(customer_data):\n",
    "    top_customers = customer_data[\n",
    "        (customer_data[\"status\"] == \"PAID\") | (customer_data[\"status\"] == 'DELIVERED')\n",
    "    ]\n",
    "\n",
    "\n",
    "    all_customer_emails = get_all_customers(customer_data)\n",
    "\n",
    "    customers_data = {}\n",
    "\n",
    "    for email in all_customer_emails:\n",
    "        total_spent = get_total_spent(email, top_customers)\n",
    "        if total_spent > 0:\n",
    "            customers_data[email] = {\"total_spend\": float(total_spent)}\n",
    "\n",
    "    top_customers_sorted = sorted(\n",
    "        [\n",
    "            {\"email\": customer, \"total (R)\": data[\"total_spend\"]}\n",
    "            for customer, data in customers_data.items()\n",
    "        ],\n",
    "        key=lambda price: price[\"total (R)\"]\n",
    "    , reverse=True)\n",
    "\n",
    "    return top_customers_sorted\n",
    "\n",
    "top_customers = get_top_customers(data)\n",
    "print(tabulate(top_customers, headers='keys', tablefmt='fancy_grid'))"
   ]
  },
  {
   "cell_type": "markdown",
   "metadata": {},
   "source": [
    "### 2.5 Customers who have OPEN baskets"
   ]
  },
  {
   "cell_type": "code",
   "execution_count": 14,
   "metadata": {},
   "outputs": [
    {
     "name": "stdout",
     "output_type": "stream",
     "text": [
      "Customers with open baskets: ['mpho@umuzi.org', 'tshepo@umuzi.org']\n"
     ]
    }
   ],
   "source": [
    "def get_customers_with_open_baskets(shopping_baskets):\n",
    "    customer_with_open_baskets = shopping_baskets[shopping_baskets[\"status\"] == \"OPEN\"]\n",
    "    email_of_customers_with_open_baskets = sorted(customer_with_open_baskets[\"email\"])\n",
    "\n",
    "    return email_of_customers_with_open_baskets\n",
    "\n",
    "customers_with_open_baskets = get_customers_with_open_baskets(data)\n",
    "print(f\"Customers with open baskets: {customers_with_open_baskets}\")"
   ]
  },
  {
   "cell_type": "markdown",
   "metadata": {},
   "source": [
    "# Conclusion"
   ]
  },
  {
   "cell_type": "markdown",
   "metadata": {},
   "source": [
    "We have seen how to manipulate the customers dataframe and to conduct multiple visualization of the data related to E-commerce. We have also created functions responsible for tracking customers activities under the transactions section. These are some of the E-commerce related concepts."
   ]
  }
 ],
 "metadata": {
  "kernelspec": {
   "display_name": "base",
   "language": "python",
   "name": "python3"
  },
  "language_info": {
   "codemirror_mode": {
    "name": "ipython",
    "version": 3
   },
   "file_extension": ".py",
   "mimetype": "text/x-python",
   "name": "python",
   "nbconvert_exporter": "python",
   "pygments_lexer": "ipython3",
   "version": "3.11.5"
  }
 },
 "nbformat": 4,
 "nbformat_minor": 2
}
